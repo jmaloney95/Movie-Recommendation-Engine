{
 "cells": [
  {
   "cell_type": "code",
   "execution_count": 9,
   "id": "f676ce48",
   "metadata": {},
   "outputs": [
    {
     "name": "stdout",
     "output_type": "stream",
     "text": [
      "TensorFlow version: 2.18.0\n"
     ]
    }
   ],
   "source": [
    "import tensorflow as tf\n",
    "from tensorflow.keras import layers, Model\n",
    "import pandas as pd\n",
    "import numpy as np\n",
    "import time\n",
    "import pickle\n",
    "from sklearn.model_selection import train_test_split\n",
    "from recommenders.evaluation.python_evaluation import (\n",
    "    map, ndcg_at_k, precision_at_k, recall_at_k\n",
    ")\n",
    "from keras.saving import register_keras_serializable\n",
    "\n",
    "print(\"TensorFlow version:\", tf.__version__)\n"
   ]
  },
  {
   "cell_type": "code",
   "execution_count": 10,
   "id": "c6606697",
   "metadata": {},
   "outputs": [],
   "source": [
    "TOP_K = 10\n",
    "EPOCHS = 5\n",
    "BATCH_SIZE = 256"
   ]
  },
  {
   "cell_type": "code",
   "execution_count": 11,
   "id": "22b61521",
   "metadata": {},
   "outputs": [
    {
     "name": "stdout",
     "output_type": "stream",
     "text": [
      "Users: 6040, Items: 3683\n"
     ]
    },
    {
     "name": "stderr",
     "output_type": "stream",
     "text": [
      "C:\\Users\\jmalo\\AppData\\Local\\Temp\\ipykernel_15768\\3872602745.py:13: FutureWarning: A value is trying to be set on a copy of a DataFrame or Series through chained assignment using an inplace method.\n",
      "The behavior will change in pandas 3.0. This inplace method will never work because the intermediate object on which we are setting values always behaves as a copy.\n",
      "\n",
      "For example, when doing 'df[col].method(value, inplace=True)', try using 'df.method({col: value}, inplace=True)' or df[col] = df[col].method(value) instead, to perform the operation inplace on the original object.\n",
      "\n",
      "\n",
      "  test_data['userID'].fillna(0, inplace=True)\n",
      "C:\\Users\\jmalo\\AppData\\Local\\Temp\\ipykernel_15768\\3872602745.py:14: FutureWarning: A value is trying to be set on a copy of a DataFrame or Series through chained assignment using an inplace method.\n",
      "The behavior will change in pandas 3.0. This inplace method will never work because the intermediate object on which we are setting values always behaves as a copy.\n",
      "\n",
      "For example, when doing 'df[col].method(value, inplace=True)', try using 'df.method({col: value}, inplace=True)' or df[col] = df[col].method(value) instead, to perform the operation inplace on the original object.\n",
      "\n",
      "\n",
      "  test_data['itemID'].fillna(0, inplace=True)\n"
     ]
    }
   ],
   "source": [
    "ratings = pd.read_csv('M:/Movie-Recommendation-Engine/notebooks/NCF Local/NCF/ml-1m_dataset.csv')\n",
    "train_data, test_data = train_test_split(ratings, test_size=0.2, random_state=42)\n",
    "\n",
    "user_mapping = {user_id: idx for idx, user_id in enumerate(train_data['userID'].unique())}\n",
    "item_mapping = {item_id: idx for idx, item_id in enumerate(train_data['itemID'].unique())}\n",
    "\n",
    "train_data['userID'] = train_data['userID'].map(user_mapping)\n",
    "train_data['itemID'] = train_data['itemID'].map(item_mapping)\n",
    "\n",
    "test_data['userID'] = test_data['userID'].map(user_mapping)\n",
    "test_data['itemID'] = test_data['itemID'].map(item_mapping)\n",
    "\n",
    "test_data['userID'].fillna(0, inplace=True)\n",
    "test_data['itemID'].fillna(0, inplace=True)\n",
    "\n",
    "test_data['userID'] = test_data['userID'].astype(int)\n",
    "test_data['itemID'] = test_data['itemID'].astype(int)\n",
    "\n",
    "n_users = len(user_mapping)\n",
    "n_items = len(item_mapping)\n",
    "\n",
    "print(f\"Users: {n_users}, Items: {n_items}\")"
   ]
  },
  {
   "cell_type": "code",
   "execution_count": 13,
   "id": "3ed29fc3",
   "metadata": {},
   "outputs": [
    {
     "name": "stdout",
     "output_type": "stream",
     "text": [
      "Model defined successfully.\n"
     ]
    },
    {
     "name": "stderr",
     "output_type": "stream",
     "text": [
      "c:\\Users\\jmalo\\anaconda3\\Lib\\site-packages\\keras\\src\\layers\\core\\embedding.py:90: UserWarning: Argument `input_length` is deprecated. Just remove it.\n",
      "  warnings.warn(\n"
     ]
    }
   ],
   "source": [
    "@register_keras_serializable(package=\"Custom\", name=\"NeuralCollaborativeFiltering\")\n",
    "class NeuralCollaborativeFiltering(Model):\n",
    "    def __init__(self, n_users, n_items, embedding_dim=8):\n",
    "        super(NeuralCollaborativeFiltering, self).__init__()\n",
    "        self.user_embedding = layers.Embedding(n_users, embedding_dim, input_length=1)\n",
    "        self.item_embedding = layers.Embedding(n_items, embedding_dim, input_length=1)\n",
    "        self.dense_layers = tf.keras.Sequential([\n",
    "            layers.Flatten(),\n",
    "            layers.Dense(64, activation='relu'),\n",
    "            layers.Dense(32, activation='relu'),\n",
    "            layers.Dense(1, activation='sigmoid')\n",
    "        ])\n",
    "\n",
    "    def call(self, inputs):\n",
    "        user_input, item_input = inputs\n",
    "        user_emb = self.user_embedding(user_input)\n",
    "        item_emb = self.item_embedding(item_input)\n",
    "        concatenated = tf.concat([user_emb, item_emb], axis=-1)\n",
    "        return self.dense_layers(concatenated)\n",
    "\n",
    "\n",
    "model = NeuralCollaborativeFiltering(n_users=n_users, n_items=n_items)\n",
    "model.compile(optimizer='adam', loss='binary_crossentropy', metrics=['accuracy'])\n",
    "\n",
    "print(\"Model defined successfully.\")"
   ]
  },
  {
   "cell_type": "code",
   "execution_count": 14,
   "id": "a6a74c78",
   "metadata": {},
   "outputs": [
    {
     "name": "stdout",
     "output_type": "stream",
     "text": [
      "Epoch 1/5\n",
      "\u001b[1m2501/2501\u001b[0m \u001b[32m━━━━━━━━━━━━━━━━━━━━\u001b[0m\u001b[37m\u001b[0m \u001b[1m4s\u001b[0m 1ms/step - accuracy: 0.6831 - loss: 0.5865 - val_accuracy: 0.7257 - val_loss: 0.5402\n",
      "Epoch 2/5\n",
      "\u001b[1m2501/2501\u001b[0m \u001b[32m━━━━━━━━━━━━━━━━━━━━\u001b[0m\u001b[37m\u001b[0m \u001b[1m3s\u001b[0m 1ms/step - accuracy: 0.7313 - loss: 0.5297 - val_accuracy: 0.7298 - val_loss: 0.5342\n",
      "Epoch 3/5\n",
      "\u001b[1m2501/2501\u001b[0m \u001b[32m━━━━━━━━━━━━━━━━━━━━\u001b[0m\u001b[37m\u001b[0m \u001b[1m3s\u001b[0m 1ms/step - accuracy: 0.7371 - loss: 0.5196 - val_accuracy: 0.7333 - val_loss: 0.5290\n",
      "Epoch 4/5\n",
      "\u001b[1m2501/2501\u001b[0m \u001b[32m━━━━━━━━━━━━━━━━━━━━\u001b[0m\u001b[37m\u001b[0m \u001b[1m3s\u001b[0m 1ms/step - accuracy: 0.7453 - loss: 0.5088 - val_accuracy: 0.7353 - val_loss: 0.5262\n",
      "Epoch 5/5\n",
      "\u001b[1m2501/2501\u001b[0m \u001b[32m━━━━━━━━━━━━━━━━━━━━\u001b[0m\u001b[37m\u001b[0m \u001b[1m3s\u001b[0m 1ms/step - accuracy: 0.7513 - loss: 0.5000 - val_accuracy: 0.7359 - val_loss: 0.5259\n",
      "Total training time: 15.56 seconds\n",
      "\u001b[1m6252/6252\u001b[0m \u001b[32m━━━━━━━━━━━━━━━━━━━━\u001b[0m\u001b[37m\u001b[0m \u001b[1m5s\u001b[0m 804us/step\n",
      "MAP: 0.573335\n",
      "NDCG: 1.000274\n",
      "Precision@K: 0.888688\n",
      "Recall@K: 0.573335\n",
      "Model saved as 'ncf_model1.keras'\n"
     ]
    }
   ],
   "source": [
    "if __name__ == \"__main__\":    \n",
    "    user_input = train_data['userID'].values\n",
    "    item_input = train_data['itemID'].values\n",
    "    labels = train_data['rating'].values > 3.5\n",
    "\n",
    "    start_time = time.time()\n",
    "\n",
    "    model.fit([user_input, item_input], labels, epochs=EPOCHS, batch_size=BATCH_SIZE, validation_split=0.2)\n",
    "\n",
    "    end_time = time.time()\n",
    "    elapsed_time = end_time - start_time\n",
    "    print(f\"Total training time: {elapsed_time:.2f} seconds\")\n",
    "\n",
    "    with open('user_mapping.pkl', 'wb') as f:\n",
    "        pickle.dump(user_mapping, f)\n",
    "\n",
    "    with open('item_mapping.pkl', 'wb') as f:\n",
    "        pickle.dump(item_mapping, f)\n",
    "\n",
    "    user_input_test = test_data['userID'].values\n",
    "    item_input_test = test_data['itemID'].values\n",
    "    predictions = model.predict([user_input_test, item_input_test])\n",
    "\n",
    "    test_data['prediction'] = predictions\n",
    "\n",
    "    eval_map = map(test_data, test_data, col_prediction='prediction', k=TOP_K)\n",
    "    eval_ndcg = ndcg_at_k(test_data, test_data, col_prediction='prediction', k=TOP_K)\n",
    "    eval_precision = precision_at_k(test_data, test_data, col_prediction='prediction', k=TOP_K)\n",
    "    eval_recall = recall_at_k(test_data, test_data, col_prediction='prediction', k=TOP_K)\n",
    "\n",
    "    print(\n",
    "        f\"MAP: {eval_map:.6f}\\n\"\n",
    "        f\"NDCG: {eval_ndcg:.6f}\\n\"\n",
    "        f\"Precision@K: {eval_precision:.6f}\\n\"\n",
    "        f\"Recall@K: {eval_recall:.6f}\"\n",
    "    )\n",
    "\n",
    "    model.save('M:/Movie-Recommendation-Engine/models/ncf_model1.keras')\n",
    "    print(\"Model saved as 'ncf_model1.keras'\")"
   ]
  }
 ],
 "metadata": {
  "kernelspec": {
   "display_name": "base",
   "language": "python",
   "name": "python3"
  },
  "language_info": {
   "codemirror_mode": {
    "name": "ipython",
    "version": 3
   },
   "file_extension": ".py",
   "mimetype": "text/x-python",
   "name": "python",
   "nbconvert_exporter": "python",
   "pygments_lexer": "ipython3",
   "version": "3.11.7"
  }
 },
 "nbformat": 4,
 "nbformat_minor": 5
}
