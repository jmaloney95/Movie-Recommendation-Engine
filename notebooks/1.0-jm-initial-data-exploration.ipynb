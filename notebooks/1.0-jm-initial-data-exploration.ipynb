{
 "cells": [
  {
   "cell_type": "code",
   "execution_count": 1,
   "id": "19091ce7-5b29-4374-85a6-dcac68d0d966",
   "metadata": {},
   "outputs": [],
   "source": [
    "import pandas as pd\n",
    "import matplotlib.pyplot as plt\n",
    "import numpy as np\n",
    "import seaborn as sns\n",
    "from scipy.sparse import csr_matrix"
   ]
  },
  {
   "cell_type": "code",
   "execution_count": 2,
   "id": "986fec9e-2258-473e-a44d-458a1469f721",
   "metadata": {},
   "outputs": [],
   "source": [
    "# Load the datasets"
   ]
  },
  {
   "cell_type": "code",
   "execution_count": 3,
   "id": "57f505ad-32b0-430f-a8a6-263084191aec",
   "metadata": {},
   "outputs": [],
   "source": [
    "movies = pd.read_csv('../data/raw/movie.csv')\n",
    "ratings = pd.read_csv('../data/raw/rating.csv')\n",
    "tags = pd.read_csv('../data/raw/tag.csv')\n",
    "links = pd.read_csv('../data/raw/link.csv')"
   ]
  },
  {
   "cell_type": "code",
   "execution_count": 4,
   "id": "a67b3dde-a874-4e5f-9cb1-7909b2d3b058",
   "metadata": {},
   "outputs": [
    {
     "data": {
      "text/html": [
       "<div>\n",
       "<style scoped>\n",
       "    .dataframe tbody tr th:only-of-type {\n",
       "        vertical-align: middle;\n",
       "    }\n",
       "\n",
       "    .dataframe tbody tr th {\n",
       "        vertical-align: top;\n",
       "    }\n",
       "\n",
       "    .dataframe thead th {\n",
       "        text-align: right;\n",
       "    }\n",
       "</style>\n",
       "<table border=\"1\" class=\"dataframe\">\n",
       "  <thead>\n",
       "    <tr style=\"text-align: right;\">\n",
       "      <th></th>\n",
       "      <th>movieId</th>\n",
       "      <th>imdbId</th>\n",
       "      <th>tmdbId</th>\n",
       "    </tr>\n",
       "  </thead>\n",
       "  <tbody>\n",
       "    <tr>\n",
       "      <th>0</th>\n",
       "      <td>1</td>\n",
       "      <td>114709</td>\n",
       "      <td>862.0</td>\n",
       "    </tr>\n",
       "    <tr>\n",
       "      <th>1</th>\n",
       "      <td>2</td>\n",
       "      <td>113497</td>\n",
       "      <td>8844.0</td>\n",
       "    </tr>\n",
       "    <tr>\n",
       "      <th>2</th>\n",
       "      <td>3</td>\n",
       "      <td>113228</td>\n",
       "      <td>15602.0</td>\n",
       "    </tr>\n",
       "    <tr>\n",
       "      <th>3</th>\n",
       "      <td>4</td>\n",
       "      <td>114885</td>\n",
       "      <td>31357.0</td>\n",
       "    </tr>\n",
       "    <tr>\n",
       "      <th>4</th>\n",
       "      <td>5</td>\n",
       "      <td>113041</td>\n",
       "      <td>11862.0</td>\n",
       "    </tr>\n",
       "  </tbody>\n",
       "</table>\n",
       "</div>"
      ],
      "text/plain": [
       "   movieId  imdbId   tmdbId\n",
       "0        1  114709    862.0\n",
       "1        2  113497   8844.0\n",
       "2        3  113228  15602.0\n",
       "3        4  114885  31357.0\n",
       "4        5  113041  11862.0"
      ]
     },
     "execution_count": 4,
     "metadata": {},
     "output_type": "execute_result"
    }
   ],
   "source": [
    "movies.head()\n",
    "ratings.head()\n",
    "tags.head()\n",
    "links.head()"
   ]
  },
  {
   "cell_type": "code",
   "execution_count": 5,
   "id": "6a6b962b-803c-4170-95ff-938a5f5b0370",
   "metadata": {},
   "outputs": [],
   "source": [
    "# movies.csv: Movie metadata (movieId, title, genres)\n",
    "# ratings.csv: User ratings (userId, movieId, rating, timestamp)\n",
    "# tags.csv: User-generated tags for movies\n",
    "# links.csv: External identifiers (IMDb IDs)"
   ]
  },
  {
   "cell_type": "code",
   "execution_count": 6,
   "id": "024e1643-c0de-4716-9641-2a3f5481aab5",
   "metadata": {},
   "outputs": [
    {
     "name": "stdout",
     "output_type": "stream",
     "text": [
      "<class 'pandas.core.frame.DataFrame'>\n",
      "RangeIndex: 27278 entries, 0 to 27277\n",
      "Data columns (total 3 columns):\n",
      " #   Column   Non-Null Count  Dtype \n",
      "---  ------   --------------  ----- \n",
      " 0   movieId  27278 non-null  int64 \n",
      " 1   title    27278 non-null  object\n",
      " 2   genres   27278 non-null  object\n",
      "dtypes: int64(1), object(2)\n",
      "memory usage: 639.5+ KB\n"
     ]
    }
   ],
   "source": [
    "movies.info()"
   ]
  },
  {
   "cell_type": "code",
   "execution_count": 7,
   "id": "17c9eca4-3562-4354-bf93-01914fc193a0",
   "metadata": {},
   "outputs": [
    {
     "data": {
      "text/html": [
       "<div>\n",
       "<style scoped>\n",
       "    .dataframe tbody tr th:only-of-type {\n",
       "        vertical-align: middle;\n",
       "    }\n",
       "\n",
       "    .dataframe tbody tr th {\n",
       "        vertical-align: top;\n",
       "    }\n",
       "\n",
       "    .dataframe thead th {\n",
       "        text-align: right;\n",
       "    }\n",
       "</style>\n",
       "<table border=\"1\" class=\"dataframe\">\n",
       "  <thead>\n",
       "    <tr style=\"text-align: right;\">\n",
       "      <th></th>\n",
       "      <th>userId</th>\n",
       "      <th>movieId</th>\n",
       "      <th>rating</th>\n",
       "    </tr>\n",
       "  </thead>\n",
       "  <tbody>\n",
       "    <tr>\n",
       "      <th>count</th>\n",
       "      <td>2.000026e+07</td>\n",
       "      <td>2.000026e+07</td>\n",
       "      <td>2.000026e+07</td>\n",
       "    </tr>\n",
       "    <tr>\n",
       "      <th>mean</th>\n",
       "      <td>6.904587e+04</td>\n",
       "      <td>9.041567e+03</td>\n",
       "      <td>3.525529e+00</td>\n",
       "    </tr>\n",
       "    <tr>\n",
       "      <th>std</th>\n",
       "      <td>4.003863e+04</td>\n",
       "      <td>1.978948e+04</td>\n",
       "      <td>1.051989e+00</td>\n",
       "    </tr>\n",
       "    <tr>\n",
       "      <th>min</th>\n",
       "      <td>1.000000e+00</td>\n",
       "      <td>1.000000e+00</td>\n",
       "      <td>5.000000e-01</td>\n",
       "    </tr>\n",
       "    <tr>\n",
       "      <th>25%</th>\n",
       "      <td>3.439500e+04</td>\n",
       "      <td>9.020000e+02</td>\n",
       "      <td>3.000000e+00</td>\n",
       "    </tr>\n",
       "    <tr>\n",
       "      <th>50%</th>\n",
       "      <td>6.914100e+04</td>\n",
       "      <td>2.167000e+03</td>\n",
       "      <td>3.500000e+00</td>\n",
       "    </tr>\n",
       "    <tr>\n",
       "      <th>75%</th>\n",
       "      <td>1.036370e+05</td>\n",
       "      <td>4.770000e+03</td>\n",
       "      <td>4.000000e+00</td>\n",
       "    </tr>\n",
       "    <tr>\n",
       "      <th>max</th>\n",
       "      <td>1.384930e+05</td>\n",
       "      <td>1.312620e+05</td>\n",
       "      <td>5.000000e+00</td>\n",
       "    </tr>\n",
       "  </tbody>\n",
       "</table>\n",
       "</div>"
      ],
      "text/plain": [
       "             userId       movieId        rating\n",
       "count  2.000026e+07  2.000026e+07  2.000026e+07\n",
       "mean   6.904587e+04  9.041567e+03  3.525529e+00\n",
       "std    4.003863e+04  1.978948e+04  1.051989e+00\n",
       "min    1.000000e+00  1.000000e+00  5.000000e-01\n",
       "25%    3.439500e+04  9.020000e+02  3.000000e+00\n",
       "50%    6.914100e+04  2.167000e+03  3.500000e+00\n",
       "75%    1.036370e+05  4.770000e+03  4.000000e+00\n",
       "max    1.384930e+05  1.312620e+05  5.000000e+00"
      ]
     },
     "execution_count": 7,
     "metadata": {},
     "output_type": "execute_result"
    }
   ],
   "source": [
    "ratings.describe()"
   ]
  },
  {
   "cell_type": "code",
   "execution_count": 8,
   "id": "8f841487-5f6c-48e2-86c9-eef84e6dd1dc",
   "metadata": {},
   "outputs": [
    {
     "name": "stdout",
     "output_type": "stream",
     "text": [
      "Number of unique users: 138493\n",
      "Number of unique movies: 27278\n"
     ]
    }
   ],
   "source": [
    "# Unique counts\n",
    "print(f\"Number of unique users: {ratings['userId'].nunique()}\")\n",
    "print(f\"Number of unique movies: {movies['movieId'].nunique()}\")"
   ]
  },
  {
   "cell_type": "code",
   "execution_count": 9,
   "id": "dce1b01c-6f5d-4e22-b371-6e52ccf37247",
   "metadata": {},
   "outputs": [],
   "source": [
    "# Ensure columns are numeric\n",
    "ratings['userId'] = pd.to_numeric(ratings['userId'], errors='coerce')\n",
    "ratings['movieId'] = pd.to_numeric(ratings['movieId'], errors='coerce')\n",
    "ratings['rating'] = pd.to_numeric(ratings['rating'], errors='coerce')"
   ]
  },
  {
   "cell_type": "code",
   "execution_count": 10,
   "id": "c25adfcb-d3ea-4c6d-bdc9-a3a811ce213a",
   "metadata": {},
   "outputs": [
    {
     "name": "stderr",
     "output_type": "stream",
     "text": [
      "C:\\Users\\jmalo\\anaconda3\\Lib\\site-packages\\seaborn\\_oldcore.py:1119: FutureWarning: use_inf_as_na option is deprecated and will be removed in a future version. Convert inf values to NaN before operating instead.\n",
      "  with pd.option_context('mode.use_inf_as_na', True):\n"
     ]
    },
    {
     "data": {
      "image/png": "[encoded data removed]",
      "text/plain": [
       "<Figure size 800x600 with 1 Axes>"
      ]
     },
     "metadata": {},
     "output_type": "display_data"
    }
   ],
   "source": [
    "# Plot distribution of ratings\n",
    "plt.figure(figsize=(8, 6))\n",
    "sns.histplot(ratings['rating'], bins=10)\n",
    "plt.title('Distribution of Movie Ratings')\n",
    "plt.xlabel('Rating')\n",
    "plt.ylabel('Count')\n",
    "plt.show()"
   ]
  },
  {
   "cell_type": "code",
   "execution_count": 11,
   "id": "b6a19a7e-57fe-434f-8cad-bcab5ceb402d",
   "metadata": {},
   "outputs": [],
   "source": [
    "# Find most popular movies"
   ]
  },
  {
   "cell_type": "code",
   "execution_count": 12,
   "id": "faa4a11b-e7c2-43f3-af30-d236dda0d110",
   "metadata": {},
   "outputs": [],
   "source": [
    "# Count of ratings per movie\n",
    "movie_ratings_count = ratings.groupby('movieId')['rating'].count().reset_index()\n",
    "movie_ratings_count.columns = ['movieId', 'rating_count']"
   ]
  },
  {
   "cell_type": "code",
   "execution_count": 13,
   "id": "47e38bf2-6f5b-4360-bad1-10ca70e7e554",
   "metadata": {},
   "outputs": [],
   "source": [
    "# Merge with movie titles\n",
    "popular_movies = movie_ratings_count.merge(movies, on='movieId')\n",
    "popular_movies = popular_movies.sort_values(by='rating_count', ascending=False)"
   ]
  },
  {
   "cell_type": "code",
   "execution_count": 44,
   "id": "e1ec49d2-2e33-4873-a622-5fc7fcf103df",
   "metadata": {},
   "outputs": [
    {
     "data": {
      "text/html": [
       "<div>\n",
       "<style scoped>\n",
       "    .dataframe tbody tr th:only-of-type {\n",
       "        vertical-align: middle;\n",
       "    }\n",
       "\n",
       "    .dataframe tbody tr th {\n",
       "        vertical-align: top;\n",
       "    }\n",
       "\n",
       "    .dataframe thead th {\n",
       "        text-align: right;\n",
       "    }\n",
       "</style>\n",
       "<table border=\"1\" class=\"dataframe\">\n",
       "  <thead>\n",
       "    <tr style=\"text-align: right;\">\n",
       "      <th></th>\n",
       "      <th>movieId</th>\n",
       "      <th>rating_count</th>\n",
       "      <th>title</th>\n",
       "      <th>genres</th>\n",
       "    </tr>\n",
       "  </thead>\n",
       "  <tbody>\n",
       "    <tr>\n",
       "      <th>293</th>\n",
       "      <td>296</td>\n",
       "      <td>67310</td>\n",
       "      <td>Pulp Fiction (1994)</td>\n",
       "      <td>Comedy|Crime|Drama|Thriller</td>\n",
       "    </tr>\n",
       "    <tr>\n",
       "      <th>352</th>\n",
       "      <td>356</td>\n",
       "      <td>66172</td>\n",
       "      <td>Forrest Gump (1994)</td>\n",
       "      <td>Comedy|Drama|Romance|War</td>\n",
       "    </tr>\n",
       "    <tr>\n",
       "      <th>315</th>\n",
       "      <td>318</td>\n",
       "      <td>63366</td>\n",
       "      <td>Shawshank Redemption, The (1994)</td>\n",
       "      <td>Crime|Drama</td>\n",
       "    </tr>\n",
       "    <tr>\n",
       "      <th>587</th>\n",
       "      <td>593</td>\n",
       "      <td>63299</td>\n",
       "      <td>Silence of the Lambs, The (1991)</td>\n",
       "      <td>Crime|Horror|Thriller</td>\n",
       "    </tr>\n",
       "    <tr>\n",
       "      <th>476</th>\n",
       "      <td>480</td>\n",
       "      <td>59715</td>\n",
       "      <td>Jurassic Park (1993)</td>\n",
       "      <td>Action|Adventure|Sci-Fi|Thriller</td>\n",
       "    </tr>\n",
       "    <tr>\n",
       "      <th>257</th>\n",
       "      <td>260</td>\n",
       "      <td>54502</td>\n",
       "      <td>Star Wars: Episode IV - A New Hope (1977)</td>\n",
       "      <td>Action|Adventure|Sci-Fi</td>\n",
       "    </tr>\n",
       "    <tr>\n",
       "      <th>108</th>\n",
       "      <td>110</td>\n",
       "      <td>53769</td>\n",
       "      <td>Braveheart (1995)</td>\n",
       "      <td>Action|Drama|War</td>\n",
       "    </tr>\n",
       "    <tr>\n",
       "      <th>583</th>\n",
       "      <td>589</td>\n",
       "      <td>52244</td>\n",
       "      <td>Terminator 2: Judgment Day (1991)</td>\n",
       "      <td>Action|Sci-Fi</td>\n",
       "    </tr>\n",
       "    <tr>\n",
       "      <th>2486</th>\n",
       "      <td>2571</td>\n",
       "      <td>51334</td>\n",
       "      <td>Matrix, The (1999)</td>\n",
       "      <td>Action|Sci-Fi|Thriller</td>\n",
       "    </tr>\n",
       "    <tr>\n",
       "      <th>523</th>\n",
       "      <td>527</td>\n",
       "      <td>50054</td>\n",
       "      <td>Schindler's List (1993)</td>\n",
       "      <td>Drama|War</td>\n",
       "    </tr>\n",
       "  </tbody>\n",
       "</table>\n",
       "</div>"
      ],
      "text/plain": [
       "      movieId  rating_count                                      title  \\\n",
       "293       296         67310                        Pulp Fiction (1994)   \n",
       "352       356         66172                        Forrest Gump (1994)   \n",
       "315       318         63366           Shawshank Redemption, The (1994)   \n",
       "587       593         63299           Silence of the Lambs, The (1991)   \n",
       "476       480         59715                       Jurassic Park (1993)   \n",
       "257       260         54502  Star Wars: Episode IV - A New Hope (1977)   \n",
       "108       110         53769                          Braveheart (1995)   \n",
       "583       589         52244          Terminator 2: Judgment Day (1991)   \n",
       "2486     2571         51334                         Matrix, The (1999)   \n",
       "523       527         50054                    Schindler's List (1993)   \n",
       "\n",
       "                                genres  \n",
       "293        Comedy|Crime|Drama|Thriller  \n",
       "352           Comedy|Drama|Romance|War  \n",
       "315                        Crime|Drama  \n",
       "587              Crime|Horror|Thriller  \n",
       "476   Action|Adventure|Sci-Fi|Thriller  \n",
       "257            Action|Adventure|Sci-Fi  \n",
       "108                   Action|Drama|War  \n",
       "583                      Action|Sci-Fi  \n",
       "2486            Action|Sci-Fi|Thriller  \n",
       "523                          Drama|War  "
      ]
     },
     "execution_count": 44,
     "metadata": {},
     "output_type": "execute_result"
    }
   ],
   "source": [
    "# Display most rated movies\n",
    "popular_movies.head(10)"
   ]
  },
  {
   "cell_type": "code",
   "execution_count": 15,
   "id": "ef28929c-3533-465e-8e3f-06269f08349f",
   "metadata": {},
   "outputs": [
    {
     "data": {
      "text/plain": [
       "userId       0\n",
       "movieId      0\n",
       "rating       0\n",
       "timestamp    0\n",
       "dtype: int64"
      ]
     },
     "execution_count": 15,
     "metadata": {},
     "output_type": "execute_result"
    }
   ],
   "source": [
    "# Check for missing values\n",
    "movies.isnull().sum()\n",
    "ratings.isnull().sum()"
   ]
  },
  {
   "cell_type": "code",
   "execution_count": 16,
   "id": "8e0e420a-21a7-43d2-843f-caa3c7b705db",
   "metadata": {},
   "outputs": [
    {
     "data": {
      "text/html": [
       "<div>\n",
       "<style scoped>\n",
       "    .dataframe tbody tr th:only-of-type {\n",
       "        vertical-align: middle;\n",
       "    }\n",
       "\n",
       "    .dataframe tbody tr th {\n",
       "        vertical-align: top;\n",
       "    }\n",
       "\n",
       "    .dataframe thead th {\n",
       "        text-align: right;\n",
       "    }\n",
       "</style>\n",
       "<table border=\"1\" class=\"dataframe\">\n",
       "  <thead>\n",
       "    <tr style=\"text-align: right;\">\n",
       "      <th></th>\n",
       "      <th>userId</th>\n",
       "      <th>movieId</th>\n",
       "      <th>rating</th>\n",
       "      <th>date</th>\n",
       "      <th>time</th>\n",
       "      <th>year</th>\n",
       "    </tr>\n",
       "  </thead>\n",
       "  <tbody>\n",
       "    <tr>\n",
       "      <th>0</th>\n",
       "      <td>1</td>\n",
       "      <td>2</td>\n",
       "      <td>3.5</td>\n",
       "      <td>2005-04-02</td>\n",
       "      <td>23:53:47</td>\n",
       "      <td>2005</td>\n",
       "    </tr>\n",
       "    <tr>\n",
       "      <th>1</th>\n",
       "      <td>1</td>\n",
       "      <td>29</td>\n",
       "      <td>3.5</td>\n",
       "      <td>2005-04-02</td>\n",
       "      <td>23:31:16</td>\n",
       "      <td>2005</td>\n",
       "    </tr>\n",
       "    <tr>\n",
       "      <th>2</th>\n",
       "      <td>1</td>\n",
       "      <td>32</td>\n",
       "      <td>3.5</td>\n",
       "      <td>2005-04-02</td>\n",
       "      <td>23:33:39</td>\n",
       "      <td>2005</td>\n",
       "    </tr>\n",
       "    <tr>\n",
       "      <th>3</th>\n",
       "      <td>1</td>\n",
       "      <td>47</td>\n",
       "      <td>3.5</td>\n",
       "      <td>2005-04-02</td>\n",
       "      <td>23:32:07</td>\n",
       "      <td>2005</td>\n",
       "    </tr>\n",
       "    <tr>\n",
       "      <th>4</th>\n",
       "      <td>1</td>\n",
       "      <td>50</td>\n",
       "      <td>3.5</td>\n",
       "      <td>2005-04-02</td>\n",
       "      <td>23:29:40</td>\n",
       "      <td>2005</td>\n",
       "    </tr>\n",
       "  </tbody>\n",
       "</table>\n",
       "</div>"
      ],
      "text/plain": [
       "   userId  movieId  rating        date      time  year\n",
       "0       1        2     3.5  2005-04-02  23:53:47  2005\n",
       "1       1       29     3.5  2005-04-02  23:31:16  2005\n",
       "2       1       32     3.5  2005-04-02  23:33:39  2005\n",
       "3       1       47     3.5  2005-04-02  23:32:07  2005\n",
       "4       1       50     3.5  2005-04-02  23:29:40  2005"
      ]
     },
     "execution_count": 16,
     "metadata": {},
     "output_type": "execute_result"
    }
   ],
   "source": [
    "# Convert timestamps\n",
    "ratings['timestamp'] = pd.to_datetime(ratings['timestamp'])\n",
    "ratings['date'] = pd.to_datetime(ratings['timestamp']).dt.date\n",
    "ratings['time'] = pd.to_datetime(ratings['timestamp']).dt.time\n",
    "ratings['year'] = ratings['timestamp'].dt.year\n",
    "ratings = ratings.drop('timestamp', axis=1)\n",
    "ratings.head()"
   ]
  },
  {
   "cell_type": "code",
   "execution_count": 17,
   "id": "8d328727-0f8e-4ac0-8b41-3875014b0162",
   "metadata": {},
   "outputs": [
    {
     "name": "stdout",
     "output_type": "stream",
     "text": [
      "Empty DataFrame\n",
      "Columns: [userId, movieId, rating, date, time, year]\n",
      "Index: []\n"
     ]
    }
   ],
   "source": [
    "# Check for duplicate ratings\n",
    "duplicate_ratings = ratings[ratings.duplicated(subset=['userId', 'movieId'], keep=False)]\n",
    "print(duplicate_ratings)"
   ]
  },
  {
   "cell_type": "code",
   "execution_count": 18,
   "id": "5e9d664d-49dd-4980-8fb8-b16fb7ad1e01",
   "metadata": {},
   "outputs": [
    {
     "data": {
      "text/plain": [
       "(20000263,)"
      ]
     },
     "execution_count": 18,
     "metadata": {},
     "output_type": "execute_result"
    }
   ],
   "source": [
    "ratings['userId'].shape\n",
    "ratings['movieId'].shape"
   ]
  },
  {
   "cell_type": "code",
   "execution_count": 19,
   "id": "2ffe113b-b328-464e-ad76-3fa76c456d20",
   "metadata": {},
   "outputs": [
    {
     "name": "stdout",
     "output_type": "stream",
     "text": [
      "Invalid userIds: 0\n",
      "Invalid movieIds: 0\n"
     ]
    }
   ],
   "source": [
    "# Check for negative userId or movieId\n",
    "invalid_user_ids = ratings[ratings['userId'] < 0]\n",
    "invalid_movie_ids = movies[movies['movieId'] < 0]\n",
    "\n",
    "print(f\"Invalid userIds: {invalid_user_ids.shape[0]}\")\n",
    "print(f\"Invalid movieIds: {invalid_movie_ids.shape[0]}\")"
   ]
  },
  {
   "cell_type": "code",
   "execution_count": 20,
   "id": "2a77c275-408b-4d1d-87d8-f90af9942bb3",
   "metadata": {},
   "outputs": [],
   "source": [
    "# Ensure columns are numeric\n",
    "ratings['userId'] = pd.to_numeric(ratings['userId'], errors='coerce')\n",
    "ratings['movieId'] = pd.to_numeric(ratings['movieId'], errors='coerce')\n",
    "ratings['rating'] = pd.to_numeric(ratings['rating'], errors='coerce')\n",
    "\n",
    "# Remove rows with invalid userId, movieId, or rating\n",
    "ratings = ratings.dropna(subset=['userId', 'movieId', 'rating'])"
   ]
  },
  {
   "cell_type": "code",
   "execution_count": 21,
   "id": "c2589d6e-964a-40a9-9bbf-b7d69b47e1e0",
   "metadata": {},
   "outputs": [
    {
     "name": "stdout",
     "output_type": "stream",
     "text": [
      "22\n"
     ]
    },
    {
     "data": {
      "text/html": [
       "<div>\n",
       "<style scoped>\n",
       "    .dataframe tbody tr th:only-of-type {\n",
       "        vertical-align: middle;\n",
       "    }\n",
       "\n",
       "    .dataframe tbody tr th {\n",
       "        vertical-align: top;\n",
       "    }\n",
       "\n",
       "    .dataframe thead th {\n",
       "        text-align: right;\n",
       "    }\n",
       "</style>\n",
       "<table border=\"1\" class=\"dataframe\">\n",
       "  <thead>\n",
       "    <tr style=\"text-align: right;\">\n",
       "      <th></th>\n",
       "      <th>movieId</th>\n",
       "      <th>title</th>\n",
       "      <th>genres</th>\n",
       "      <th>release_year</th>\n",
       "    </tr>\n",
       "  </thead>\n",
       "  <tbody>\n",
       "    <tr>\n",
       "      <th>0</th>\n",
       "      <td>1</td>\n",
       "      <td>Toy Story (1995)</td>\n",
       "      <td>Adventure|Animation|Children|Comedy|Fantasy</td>\n",
       "      <td>1995</td>\n",
       "    </tr>\n",
       "    <tr>\n",
       "      <th>1</th>\n",
       "      <td>2</td>\n",
       "      <td>Jumanji (1995)</td>\n",
       "      <td>Adventure|Children|Fantasy</td>\n",
       "      <td>1995</td>\n",
       "    </tr>\n",
       "    <tr>\n",
       "      <th>2</th>\n",
       "      <td>3</td>\n",
       "      <td>Grumpier Old Men (1995)</td>\n",
       "      <td>Comedy|Romance</td>\n",
       "      <td>1995</td>\n",
       "    </tr>\n",
       "    <tr>\n",
       "      <th>3</th>\n",
       "      <td>4</td>\n",
       "      <td>Waiting to Exhale (1995)</td>\n",
       "      <td>Comedy|Drama|Romance</td>\n",
       "      <td>1995</td>\n",
       "    </tr>\n",
       "    <tr>\n",
       "      <th>4</th>\n",
       "      <td>5</td>\n",
       "      <td>Father of the Bride Part II (1995)</td>\n",
       "      <td>Comedy</td>\n",
       "      <td>1995</td>\n",
       "    </tr>\n",
       "  </tbody>\n",
       "</table>\n",
       "</div>"
      ],
      "text/plain": [
       "   movieId                               title  \\\n",
       "0        1                    Toy Story (1995)   \n",
       "1        2                      Jumanji (1995)   \n",
       "2        3             Grumpier Old Men (1995)   \n",
       "3        4            Waiting to Exhale (1995)   \n",
       "4        5  Father of the Bride Part II (1995)   \n",
       "\n",
       "                                        genres  release_year  \n",
       "0  Adventure|Animation|Children|Comedy|Fantasy          1995  \n",
       "1                   Adventure|Children|Fantasy          1995  \n",
       "2                               Comedy|Romance          1995  \n",
       "3                         Comedy|Drama|Romance          1995  \n",
       "4                                       Comedy          1995  "
      ]
     },
     "execution_count": 21,
     "metadata": {},
     "output_type": "execute_result"
    }
   ],
   "source": [
    "# New column with movie release year\n",
    "movies['release_year'] = movies['title'].str.extract(r'\\((\\d{4})\\)', expand=False) # regex 4 digits in parenthesis\n",
    "movies['release_year'] = pd.to_numeric(movies['release_year'])\n",
    "# Type cast to int\n",
    "print(movies['release_year'].isna().sum())\n",
    "movies['release_year'] = movies['release_year'].fillna(0)\n",
    "movies['release_year'] = movies['release_year'].astype(int)\n",
    "movies.head()"
   ]
  },
  {
   "cell_type": "code",
   "execution_count": 22,
   "id": "d945e6c5-7465-49c8-9411-f7b3f2b139a3",
   "metadata": {},
   "outputs": [
    {
     "data": {
      "text/html": [
       "<div>\n",
       "<style scoped>\n",
       "    .dataframe tbody tr th:only-of-type {\n",
       "        vertical-align: middle;\n",
       "    }\n",
       "\n",
       "    .dataframe tbody tr th {\n",
       "        vertical-align: top;\n",
       "    }\n",
       "\n",
       "    .dataframe thead th {\n",
       "        text-align: right;\n",
       "    }\n",
       "</style>\n",
       "<table border=\"1\" class=\"dataframe\">\n",
       "  <thead>\n",
       "    <tr style=\"text-align: right;\">\n",
       "      <th></th>\n",
       "      <th>userId</th>\n",
       "      <th>movieId</th>\n",
       "      <th>rating</th>\n",
       "      <th>date</th>\n",
       "      <th>time</th>\n",
       "      <th>year</th>\n",
       "      <th>title</th>\n",
       "      <th>genres</th>\n",
       "      <th>release_year</th>\n",
       "    </tr>\n",
       "  </thead>\n",
       "  <tbody>\n",
       "    <tr>\n",
       "      <th>0</th>\n",
       "      <td>1</td>\n",
       "      <td>2</td>\n",
       "      <td>3.5</td>\n",
       "      <td>2005-04-02</td>\n",
       "      <td>23:53:47</td>\n",
       "      <td>2005</td>\n",
       "      <td>Jumanji (1995)</td>\n",
       "      <td>Adventure|Children|Fantasy</td>\n",
       "      <td>1995</td>\n",
       "    </tr>\n",
       "    <tr>\n",
       "      <th>1</th>\n",
       "      <td>5</td>\n",
       "      <td>2</td>\n",
       "      <td>3.0</td>\n",
       "      <td>1996-12-25</td>\n",
       "      <td>15:26:09</td>\n",
       "      <td>1996</td>\n",
       "      <td>Jumanji (1995)</td>\n",
       "      <td>Adventure|Children|Fantasy</td>\n",
       "      <td>1995</td>\n",
       "    </tr>\n",
       "    <tr>\n",
       "      <th>2</th>\n",
       "      <td>13</td>\n",
       "      <td>2</td>\n",
       "      <td>3.0</td>\n",
       "      <td>1996-11-27</td>\n",
       "      <td>08:19:02</td>\n",
       "      <td>1996</td>\n",
       "      <td>Jumanji (1995)</td>\n",
       "      <td>Adventure|Children|Fantasy</td>\n",
       "      <td>1995</td>\n",
       "    </tr>\n",
       "    <tr>\n",
       "      <th>3</th>\n",
       "      <td>29</td>\n",
       "      <td>2</td>\n",
       "      <td>3.0</td>\n",
       "      <td>1996-06-23</td>\n",
       "      <td>20:36:14</td>\n",
       "      <td>1996</td>\n",
       "      <td>Jumanji (1995)</td>\n",
       "      <td>Adventure|Children|Fantasy</td>\n",
       "      <td>1995</td>\n",
       "    </tr>\n",
       "    <tr>\n",
       "      <th>4</th>\n",
       "      <td>34</td>\n",
       "      <td>2</td>\n",
       "      <td>3.0</td>\n",
       "      <td>1996-10-28</td>\n",
       "      <td>13:29:44</td>\n",
       "      <td>1996</td>\n",
       "      <td>Jumanji (1995)</td>\n",
       "      <td>Adventure|Children|Fantasy</td>\n",
       "      <td>1995</td>\n",
       "    </tr>\n",
       "  </tbody>\n",
       "</table>\n",
       "</div>"
      ],
      "text/plain": [
       "   userId  movieId  rating        date      time  year           title  \\\n",
       "0       1        2     3.5  2005-04-02  23:53:47  2005  Jumanji (1995)   \n",
       "1       5        2     3.0  1996-12-25  15:26:09  1996  Jumanji (1995)   \n",
       "2      13        2     3.0  1996-11-27  08:19:02  1996  Jumanji (1995)   \n",
       "3      29        2     3.0  1996-06-23  20:36:14  1996  Jumanji (1995)   \n",
       "4      34        2     3.0  1996-10-28  13:29:44  1996  Jumanji (1995)   \n",
       "\n",
       "                       genres  release_year  \n",
       "0  Adventure|Children|Fantasy          1995  \n",
       "1  Adventure|Children|Fantasy          1995  \n",
       "2  Adventure|Children|Fantasy          1995  \n",
       "3  Adventure|Children|Fantasy          1995  \n",
       "4  Adventure|Children|Fantasy          1995  "
      ]
     },
     "execution_count": 22,
     "metadata": {},
     "output_type": "execute_result"
    }
   ],
   "source": [
    "# Merge datasets\n",
    "merged_data = pd.merge(ratings, movies, on='movieId')\n",
    "merged_data.head()"
   ]
  },
  {
   "cell_type": "code",
   "execution_count": 23,
   "id": "82857f74-a1a5-47a9-a255-a99ddcb403c6",
   "metadata": {},
   "outputs": [],
   "source": [
    "# Filtering out movies with low rating data"
   ]
  },
  {
   "cell_type": "code",
   "execution_count": 24,
   "id": "a17f58b3-92d5-435c-b5b4-5a8cce4faf2c",
   "metadata": {},
   "outputs": [
    {
     "data": {
      "text/plain": [
       "17042316    20\n",
       "3730529     20\n",
       "3730528     20\n",
       "3730527     20\n",
       "3730526     20\n",
       "Name: user_rating_count, dtype: int64"
      ]
     },
     "execution_count": 24,
     "metadata": {},
     "output_type": "execute_result"
    }
   ],
   "source": [
    "# Movie popularity\n",
    "movies['rating_count'] = ratings.groupby('movieId')['rating'].transform('count')\n",
    "movies['rating_count'].sort_values(ascending=True).head()\n",
    "# User activity\n",
    "ratings['user_rating_count'] = ratings.groupby('userId')['rating'].transform('count')\n",
    "ratings['user_rating_count'].sort_values(ascending=True).head()"
   ]
  },
  {
   "cell_type": "code",
   "execution_count": 25,
   "id": "b2e21729-f203-4165-87ae-d9cc971397a3",
   "metadata": {},
   "outputs": [],
   "source": [
    "# Findings: There are many movies with minimal rating data that we should remove.  All users have rated 20 or more films which is a good minimum."
   ]
  },
  {
   "cell_type": "code",
   "execution_count": 26,
   "id": "fd1a7f04-c481-42c5-8f0c-3eb2fa88bafd",
   "metadata": {},
   "outputs": [
    {
     "data": {
      "text/plain": [
       "movieId         92\n",
       "title           92\n",
       "genres          92\n",
       "release_year    92\n",
       "rating_count    92\n",
       "dtype: int64"
      ]
     },
     "execution_count": 26,
     "metadata": {},
     "output_type": "execute_result"
    }
   ],
   "source": [
    "movies.loc[movies['rating_count'] < 50].count()"
   ]
  },
  {
   "cell_type": "code",
   "execution_count": 27,
   "id": "80f2e6a0-128b-40c1-a873-1bef1d1b0287",
   "metadata": {},
   "outputs": [],
   "source": [
    "# Remove movies with less than 50 ratings\n",
    "ratings_count = merged_data['movieId'].value_counts()\n",
    "merged_data = merged_data[merged_data['movieId'].isin(ratings_count[ratings_count > 50].index)]"
   ]
  },
  {
   "cell_type": "code",
   "execution_count": 29,
   "id": "986edc0e-592c-4b21-8593-811e304c9ba2",
   "metadata": {},
   "outputs": [],
   "source": [
    "# Pivot table to be used for user-item interaction matrix - each row corresponds to a user and each column to a movie"
   ]
  },
  {
   "cell_type": "code",
   "execution_count": 30,
   "id": "0dc40b55-6869-4436-a6bd-3d176011a2ca",
   "metadata": {},
   "outputs": [],
   "source": [
    "user_movie_matrix = merged_data.pivot(index='userId', columns='movieId', values='rating')\n",
    "user_movie_matrix = user_movie_matrix.fillna(0)"
   ]
  },
  {
   "cell_type": "code",
   "execution_count": 31,
   "id": "29f145b7-05a8-44ea-9737-756f48e17815",
   "metadata": {},
   "outputs": [
    {
     "data": {
      "text/html": [
       "<div>\n",
       "<style scoped>\n",
       "    .dataframe tbody tr th:only-of-type {\n",
       "        vertical-align: middle;\n",
       "    }\n",
       "\n",
       "    .dataframe tbody tr th {\n",
       "        vertical-align: top;\n",
       "    }\n",
       "\n",
       "    .dataframe thead th {\n",
       "        text-align: right;\n",
       "    }\n",
       "</style>\n",
       "<table border=\"1\" class=\"dataframe\">\n",
       "  <thead>\n",
       "    <tr style=\"text-align: right;\">\n",
       "      <th>movieId</th>\n",
       "      <th>1</th>\n",
       "      <th>2</th>\n",
       "      <th>3</th>\n",
       "      <th>4</th>\n",
       "      <th>5</th>\n",
       "      <th>6</th>\n",
       "      <th>7</th>\n",
       "      <th>8</th>\n",
       "      <th>9</th>\n",
       "      <th>10</th>\n",
       "      <th>...</th>\n",
       "      <th>118700</th>\n",
       "      <th>118702</th>\n",
       "      <th>118900</th>\n",
       "      <th>118985</th>\n",
       "      <th>118997</th>\n",
       "      <th>119141</th>\n",
       "      <th>119145</th>\n",
       "      <th>119155</th>\n",
       "      <th>120635</th>\n",
       "      <th>125916</th>\n",
       "    </tr>\n",
       "    <tr>\n",
       "      <th>userId</th>\n",
       "      <th></th>\n",
       "      <th></th>\n",
       "      <th></th>\n",
       "      <th></th>\n",
       "      <th></th>\n",
       "      <th></th>\n",
       "      <th></th>\n",
       "      <th></th>\n",
       "      <th></th>\n",
       "      <th></th>\n",
       "      <th></th>\n",
       "      <th></th>\n",
       "      <th></th>\n",
       "      <th></th>\n",
       "      <th></th>\n",
       "      <th></th>\n",
       "      <th></th>\n",
       "      <th></th>\n",
       "      <th></th>\n",
       "      <th></th>\n",
       "      <th></th>\n",
       "    </tr>\n",
       "  </thead>\n",
       "  <tbody>\n",
       "    <tr>\n",
       "      <th>1</th>\n",
       "      <td>0.0</td>\n",
       "      <td>3.5</td>\n",
       "      <td>0.0</td>\n",
       "      <td>0.0</td>\n",
       "      <td>0.0</td>\n",
       "      <td>0.0</td>\n",
       "      <td>0.0</td>\n",
       "      <td>0.0</td>\n",
       "      <td>0.0</td>\n",
       "      <td>0.0</td>\n",
       "      <td>...</td>\n",
       "      <td>0.0</td>\n",
       "      <td>0.0</td>\n",
       "      <td>0.0</td>\n",
       "      <td>0.0</td>\n",
       "      <td>0.0</td>\n",
       "      <td>0.0</td>\n",
       "      <td>0.0</td>\n",
       "      <td>0.0</td>\n",
       "      <td>0.0</td>\n",
       "      <td>0.0</td>\n",
       "    </tr>\n",
       "    <tr>\n",
       "      <th>2</th>\n",
       "      <td>0.0</td>\n",
       "      <td>0.0</td>\n",
       "      <td>4.0</td>\n",
       "      <td>0.0</td>\n",
       "      <td>0.0</td>\n",
       "      <td>0.0</td>\n",
       "      <td>0.0</td>\n",
       "      <td>0.0</td>\n",
       "      <td>0.0</td>\n",
       "      <td>0.0</td>\n",
       "      <td>...</td>\n",
       "      <td>0.0</td>\n",
       "      <td>0.0</td>\n",
       "      <td>0.0</td>\n",
       "      <td>0.0</td>\n",
       "      <td>0.0</td>\n",
       "      <td>0.0</td>\n",
       "      <td>0.0</td>\n",
       "      <td>0.0</td>\n",
       "      <td>0.0</td>\n",
       "      <td>0.0</td>\n",
       "    </tr>\n",
       "    <tr>\n",
       "      <th>3</th>\n",
       "      <td>4.0</td>\n",
       "      <td>0.0</td>\n",
       "      <td>0.0</td>\n",
       "      <td>0.0</td>\n",
       "      <td>0.0</td>\n",
       "      <td>0.0</td>\n",
       "      <td>0.0</td>\n",
       "      <td>0.0</td>\n",
       "      <td>0.0</td>\n",
       "      <td>0.0</td>\n",
       "      <td>...</td>\n",
       "      <td>0.0</td>\n",
       "      <td>0.0</td>\n",
       "      <td>0.0</td>\n",
       "      <td>0.0</td>\n",
       "      <td>0.0</td>\n",
       "      <td>0.0</td>\n",
       "      <td>0.0</td>\n",
       "      <td>0.0</td>\n",
       "      <td>0.0</td>\n",
       "      <td>0.0</td>\n",
       "    </tr>\n",
       "    <tr>\n",
       "      <th>4</th>\n",
       "      <td>0.0</td>\n",
       "      <td>0.0</td>\n",
       "      <td>0.0</td>\n",
       "      <td>0.0</td>\n",
       "      <td>0.0</td>\n",
       "      <td>3.0</td>\n",
       "      <td>0.0</td>\n",
       "      <td>0.0</td>\n",
       "      <td>0.0</td>\n",
       "      <td>4.0</td>\n",
       "      <td>...</td>\n",
       "      <td>0.0</td>\n",
       "      <td>0.0</td>\n",
       "      <td>0.0</td>\n",
       "      <td>0.0</td>\n",
       "      <td>0.0</td>\n",
       "      <td>0.0</td>\n",
       "      <td>0.0</td>\n",
       "      <td>0.0</td>\n",
       "      <td>0.0</td>\n",
       "      <td>0.0</td>\n",
       "    </tr>\n",
       "    <tr>\n",
       "      <th>5</th>\n",
       "      <td>0.0</td>\n",
       "      <td>3.0</td>\n",
       "      <td>0.0</td>\n",
       "      <td>0.0</td>\n",
       "      <td>0.0</td>\n",
       "      <td>0.0</td>\n",
       "      <td>0.0</td>\n",
       "      <td>0.0</td>\n",
       "      <td>0.0</td>\n",
       "      <td>0.0</td>\n",
       "      <td>...</td>\n",
       "      <td>0.0</td>\n",
       "      <td>0.0</td>\n",
       "      <td>0.0</td>\n",
       "      <td>0.0</td>\n",
       "      <td>0.0</td>\n",
       "      <td>0.0</td>\n",
       "      <td>0.0</td>\n",
       "      <td>0.0</td>\n",
       "      <td>0.0</td>\n",
       "      <td>0.0</td>\n",
       "    </tr>\n",
       "  </tbody>\n",
       "</table>\n",
       "<p>5 rows × 10473 columns</p>\n",
       "</div>"
      ],
      "text/plain": [
       "movieId  1       2       3       4       5       6       7       8       \\\n",
       "userId                                                                    \n",
       "1           0.0     3.5     0.0     0.0     0.0     0.0     0.0     0.0   \n",
       "2           0.0     0.0     4.0     0.0     0.0     0.0     0.0     0.0   \n",
       "3           4.0     0.0     0.0     0.0     0.0     0.0     0.0     0.0   \n",
       "4           0.0     0.0     0.0     0.0     0.0     3.0     0.0     0.0   \n",
       "5           0.0     3.0     0.0     0.0     0.0     0.0     0.0     0.0   \n",
       "\n",
       "movieId  9       10      ...  118700  118702  118900  118985  118997  119141  \\\n",
       "userId                   ...                                                   \n",
       "1           0.0     0.0  ...     0.0     0.0     0.0     0.0     0.0     0.0   \n",
       "2           0.0     0.0  ...     0.0     0.0     0.0     0.0     0.0     0.0   \n",
       "3           0.0     0.0  ...     0.0     0.0     0.0     0.0     0.0     0.0   \n",
       "4           0.0     4.0  ...     0.0     0.0     0.0     0.0     0.0     0.0   \n",
       "5           0.0     0.0  ...     0.0     0.0     0.0     0.0     0.0     0.0   \n",
       "\n",
       "movieId  119145  119155  120635  125916  \n",
       "userId                                   \n",
       "1           0.0     0.0     0.0     0.0  \n",
       "2           0.0     0.0     0.0     0.0  \n",
       "3           0.0     0.0     0.0     0.0  \n",
       "4           0.0     0.0     0.0     0.0  \n",
       "5           0.0     0.0     0.0     0.0  \n",
       "\n",
       "[5 rows x 10473 columns]"
      ]
     },
     "execution_count": 31,
     "metadata": {},
     "output_type": "execute_result"
    }
   ],
   "source": [
    "user_movie_matrix.head()"
   ]
  },
  {
   "cell_type": "markdown",
   "id": "21b61721-d814-4763-a3d0-866e2f97d881",
   "metadata": {},
   "source": [
    "Exploratory Data Analysis"
   ]
  },
  {
   "cell_type": "code",
   "execution_count": 32,
   "id": "25c6cd41-e12d-4857-b20b-f2f367a4b365",
   "metadata": {},
   "outputs": [
    {
     "data": {
      "image/png": "[encoded data removed]",
      "text/plain": [
       "<Figure size 1600x400 with 1 Axes>"
      ]
     },
     "metadata": {},
     "output_type": "display_data"
    }
   ],
   "source": [
    "num_movies_voted = merged_data.groupby('userId')['rating'].agg('count')\n",
    "f,ax = plt.subplots(1,1,figsize=(16,4))\n",
    "plt.scatter(num_movies_voted.index,num_movies_voted,color='blue')\n",
    "plt.axhline(y=50,color='r')\n",
    "plt.title(\"Votes per user\")\n",
    "plt.xlabel('UserId')\n",
    "plt.ylabel('No. of votes by user')\n",
    "plt.show()"
   ]
  },
  {
   "cell_type": "code",
   "execution_count": 38,
   "id": "46ca176e-4df2-4569-9bfd-0603d0893145",
   "metadata": {},
   "outputs": [],
   "source": [
    "# Movie popularity by total vote count"
   ]
  },
  {
   "cell_type": "code",
   "execution_count": 28,
   "id": "3257c511-a4b6-4ddf-b778-5d23efc8fe4f",
   "metadata": {},
   "outputs": [
    {
     "data": {
      "image/png": "[encoded data removed]",
      "text/plain": [
       "<Figure size 1600x400 with 1 Axes>"
      ]
     },
     "metadata": {},
     "output_type": "display_data"
    }
   ],
   "source": [
    "num_users_voted = merged_data.groupby('movieId')['rating'].agg('count')\n",
    "fig = plt.figure(figsize=(16, 4))\n",
    "ax = fig.add_subplot(1, 1, 1)\n",
    "\n",
    "plt.scatter(num_users_voted.index, num_users_voted, color='skyblue')\n",
    "plt.axhline(y=10,color='r')\n",
    "plt.title(\"User Rating Count per Movie\")\n",
    "plt.xlabel('MovieId')\n",
    "plt.ylabel('No. of users voted')\n",
    "plt.show()"
   ]
  },
  {
   "cell_type": "code",
   "execution_count": null,
   "id": "fe31c09b-ac2b-4e42-9a3f-03be54370568",
   "metadata": {},
   "outputs": [],
   "source": [
    "# Find most voted movies"
   ]
  },
  {
   "cell_type": "code",
   "execution_count": 39,
   "id": "93107c7d-653e-4836-b262-cab5d38d1ff9",
   "metadata": {},
   "outputs": [
    {
     "data": {
      "text/plain": [
       "movieId\n",
       "1     49695\n",
       "2     22243\n",
       "3     12735\n",
       "4      2756\n",
       "5     12161\n",
       "6     23899\n",
       "7     12961\n",
       "8      1415\n",
       "9      3960\n",
       "10    29005\n",
       "Name: rating, dtype: int64"
      ]
     },
     "execution_count": 39,
     "metadata": {},
     "output_type": "execute_result"
    }
   ],
   "source": [
    "num_users_voted.head(10)"
   ]
  },
  {
   "cell_type": "code",
   "execution_count": 43,
   "id": "e9951e62-3903-4642-8bba-49a0ed492f99",
   "metadata": {},
   "outputs": [
    {
     "name": "stdout",
     "output_type": "stream",
     "text": [
      "                                          title  vote_count\n",
      "293                         Pulp Fiction (1994)       67310\n",
      "352                         Forrest Gump (1994)       66172\n",
      "315            Shawshank Redemption, The (1994)       63366\n",
      "587            Silence of the Lambs, The (1991)       63299\n",
      "476                        Jurassic Park (1993)       59715\n",
      "257   Star Wars: Episode IV - A New Hope (1977)       54502\n",
      "108                           Braveheart (1995)       53769\n",
      "583           Terminator 2: Judgment Day (1991)       52244\n",
      "2486                         Matrix, The (1999)       51334\n",
      "523                     Schindler's List (1993)       50054\n"
     ]
    }
   ],
   "source": [
    "vote_counts = ratings.groupby('movieId').size().reset_index(name='vote_count')\n",
    "\n",
    "# Merge with the movies dataframe to get movie titles\n",
    "movie_vote_counts = pd.merge(vote_counts, movies, on='movieId')\n",
    "\n",
    "# Sort by vote count in descending order\n",
    "most_voted_movies = movie_vote_counts.sort_values(by='vote_count', ascending=False)\n",
    "\n",
    "# Display the top 10 movies with the most votes\n",
    "top_10_voted_movies = most_voted_movies.head(10)\n",
    "print(top_10_voted_movies[['title', 'vote_count']])"
   ]
  },
  {
   "cell_type": "code",
   "execution_count": 34,
   "id": "66cbf3b5-cbf2-46f6-9963-5dcad35ee3be",
   "metadata": {},
   "outputs": [],
   "source": [
    "# Movie popularity based on average rating"
   ]
  },
  {
   "cell_type": "code",
   "execution_count": 37,
   "id": "8a4a04c5-cf6d-4cd6-a38f-893744ccfd46",
   "metadata": {},
   "outputs": [
    {
     "data": {
      "text/html": [
       "<div>\n",
       "<style scoped>\n",
       "    .dataframe tbody tr th:only-of-type {\n",
       "        vertical-align: middle;\n",
       "    }\n",
       "\n",
       "    .dataframe tbody tr th {\n",
       "        vertical-align: top;\n",
       "    }\n",
       "\n",
       "    .dataframe thead th {\n",
       "        text-align: right;\n",
       "    }\n",
       "</style>\n",
       "<table border=\"1\" class=\"dataframe\">\n",
       "  <thead>\n",
       "    <tr style=\"text-align: right;\">\n",
       "      <th></th>\n",
       "      <th>title</th>\n",
       "      <th>rating</th>\n",
       "    </tr>\n",
       "  </thead>\n",
       "  <tbody>\n",
       "    <tr>\n",
       "      <th>8345</th>\n",
       "      <td>Shawshank Redemption, The (1994)</td>\n",
       "      <td>4.446990</td>\n",
       "    </tr>\n",
       "    <tr>\n",
       "      <th>3777</th>\n",
       "      <td>Godfather, The (1972)</td>\n",
       "      <td>4.364732</td>\n",
       "    </tr>\n",
       "    <tr>\n",
       "      <th>9829</th>\n",
       "      <td>Usual Suspects, The (1995)</td>\n",
       "      <td>4.334372</td>\n",
       "    </tr>\n",
       "    <tr>\n",
       "      <th>8150</th>\n",
       "      <td>Schindler's List (1993)</td>\n",
       "      <td>4.310175</td>\n",
       "    </tr>\n",
       "    <tr>\n",
       "      <th>3778</th>\n",
       "      <td>Godfather: Part II, The (1974)</td>\n",
       "      <td>4.275641</td>\n",
       "    </tr>\n",
       "    <tr>\n",
       "      <th>8273</th>\n",
       "      <td>Seven Samurai (Shichinin no samurai) (1954)</td>\n",
       "      <td>4.274180</td>\n",
       "    </tr>\n",
       "    <tr>\n",
       "      <th>7652</th>\n",
       "      <td>Rear Window (1954)</td>\n",
       "      <td>4.271334</td>\n",
       "    </tr>\n",
       "    <tr>\n",
       "      <th>815</th>\n",
       "      <td>Band of Brothers (2001)</td>\n",
       "      <td>4.263182</td>\n",
       "    </tr>\n",
       "    <tr>\n",
       "      <th>1696</th>\n",
       "      <td>Casablanca (1942)</td>\n",
       "      <td>4.258327</td>\n",
       "    </tr>\n",
       "    <tr>\n",
       "      <th>8993</th>\n",
       "      <td>Sunset Blvd. (a.k.a. Sunset Boulevard) (1950)</td>\n",
       "      <td>4.256935</td>\n",
       "    </tr>\n",
       "  </tbody>\n",
       "</table>\n",
       "</div>"
      ],
      "text/plain": [
       "                                              title    rating\n",
       "8345               Shawshank Redemption, The (1994)  4.446990\n",
       "3777                          Godfather, The (1972)  4.364732\n",
       "9829                     Usual Suspects, The (1995)  4.334372\n",
       "8150                        Schindler's List (1993)  4.310175\n",
       "3778                 Godfather: Part II, The (1974)  4.275641\n",
       "8273    Seven Samurai (Shichinin no samurai) (1954)  4.274180\n",
       "7652                             Rear Window (1954)  4.271334\n",
       "815                         Band of Brothers (2001)  4.263182\n",
       "1696                              Casablanca (1942)  4.258327\n",
       "8993  Sunset Blvd. (a.k.a. Sunset Boulevard) (1950)  4.256935"
      ]
     },
     "execution_count": 37,
     "metadata": {},
     "output_type": "execute_result"
    }
   ],
   "source": [
    "avg_ratings = merged_data.groupby('title')['rating'].mean().reset_index()\n",
    "avg_ratings_sorted = avg_ratings.sort_values(by='rating', ascending=False)\n",
    "avg_ratings_sorted.head(10)"
   ]
  },
  {
   "cell_type": "code",
   "execution_count": 36,
   "id": "f2a97e23-84cb-4504-8b81-cb393b0cb687",
   "metadata": {},
   "outputs": [
    {
     "data": {
      "image/png": "[encoded data removed]",
      "text/plain": [
       "<Figure size 1000x600 with 1 Axes>"
      ]
     },
     "metadata": {},
     "output_type": "display_data"
    }
   ],
   "source": [
    "top_10_movies = avg_ratings_sorted.head(10)\n",
    "plt.figure(figsize=(10,6))\n",
    "sns.barplot(x='rating', y='title', data=top_10_movies, palette='viridis')\n",
    "plt.xlabel('Average Rating')\n",
    "plt.ylabel('Movie Title')\n",
    "plt.title('Top 10 Movies by Avg Rating')\n",
    "plt.show()"
   ]
  },
  {
   "cell_type": "code",
   "execution_count": 92,
   "id": "e0fd8e25-9e0d-4b9e-bbcd-00e0c9812dad",
   "metadata": {},
   "outputs": [],
   "source": [
    "# ratings based on genre"
   ]
  },
  {
   "cell_type": "code",
   "execution_count": 93,
   "id": "041a9139-75c9-432d-9646-056cbc9ab2ff",
   "metadata": {},
   "outputs": [],
   "source": [
    "# Users that liked a specific genre"
   ]
  },
  {
   "cell_type": "code",
   "execution_count": null,
   "id": "858ebf78-60ae-4926-8d00-7e758ab38a7d",
   "metadata": {},
   "outputs": [],
   "source": []
  }
 ],
 "metadata": {
  "kernelspec": {
   "display_name": "Python 3 (ipykernel)",
   "language": "python",
   "name": "python3"
  },
  "language_info": {
   "codemirror_mode": {
    "name": "ipython",
    "version": 3
   },
   "file_extension": ".py",
   "mimetype": "text/x-python",
   "name": "python",
   "nbconvert_exporter": "python",
   "pygments_lexer": "ipython3",
   "version": "3.11.7"
  }
 },
 "nbformat": 4,
 "nbformat_minor": 5
}
