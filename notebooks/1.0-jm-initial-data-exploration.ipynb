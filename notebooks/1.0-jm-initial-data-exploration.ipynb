{
 "cells": [
  {
   "cell_type": "code",
   "execution_count": 103,
   "id": "19091ce7-5b29-4374-85a6-dcac68d0d966",
   "metadata": {},
   "outputs": [],
   "source": [
    "import pandas as pd\n",
    "import matplotlib.pyplot as plt\n",
    "import numpy as np\n",
    "import seaborn as sns\n",
    "from scipy.sparse import csr_matrix"
   ]
  },
  {
   "cell_type": "code",
   "execution_count": 104,
   "id": "986fec9e-2258-473e-a44d-458a1469f721",
   "metadata": {},
   "outputs": [],
   "source": [
    "# Load the datasets"
   ]
  },
  {
   "cell_type": "code",
   "execution_count": 105,
   "id": "57f505ad-32b0-430f-a8a6-263084191aec",
   "metadata": {},
   "outputs": [],
   "source": [
    "movies = pd.read_csv('../data/raw/movie.csv')\n",
    "ratings = pd.read_csv('../data/raw/rating.csv')\n",
    "tags = pd.read_csv('../data/raw/tag.csv')\n",
    "links = pd.read_csv('../data/raw/link.csv')"
   ]
  },
  {
   "cell_type": "code",
   "execution_count": 106,
   "id": "a67b3dde-a874-4e5f-9cb1-7909b2d3b058",
   "metadata": {},
   "outputs": [
    {
     "name": "stdout",
     "output_type": "stream",
     "text": [
      "   movieId                               title  \\\n",
      "0        1                    Toy Story (1995)   \n",
      "1        2                      Jumanji (1995)   \n",
      "2        3             Grumpier Old Men (1995)   \n",
      "3        4            Waiting to Exhale (1995)   \n",
      "4        5  Father of the Bride Part II (1995)   \n",
      "\n",
      "                                        genres  \n",
      "0  Adventure|Animation|Children|Comedy|Fantasy  \n",
      "1                   Adventure|Children|Fantasy  \n",
      "2                               Comedy|Romance  \n",
      "3                         Comedy|Drama|Romance  \n",
      "4                                       Comedy  \n",
      "   userId  movieId  rating            timestamp\n",
      "0       1        2     3.5  2005-04-02 23:53:47\n",
      "1       1       29     3.5  2005-04-02 23:31:16\n",
      "2       1       32     3.5  2005-04-02 23:33:39\n",
      "3       1       47     3.5  2005-04-02 23:32:07\n",
      "4       1       50     3.5  2005-04-02 23:29:40\n",
      "   userId  movieId            tag            timestamp\n",
      "0      18     4141    Mark Waters  2009-04-24 18:19:40\n",
      "1      65      208      dark hero  2013-05-10 01:41:18\n",
      "2      65      353      dark hero  2013-05-10 01:41:19\n",
      "3      65      521  noir thriller  2013-05-10 01:39:43\n",
      "4      65      592      dark hero  2013-05-10 01:41:18\n",
      "   movieId  imdbId   tmdbId\n",
      "0        1  114709    862.0\n",
      "1        2  113497   8844.0\n",
      "2        3  113228  15602.0\n",
      "3        4  114885  31357.0\n",
      "4        5  113041  11862.0\n"
     ]
    }
   ],
   "source": [
    "print(movies.head())\n",
    "print(ratings.head())\n",
    "print(tags.head())\n",
    "print(links.head())"
   ]
  },
  {
   "cell_type": "code",
   "execution_count": 107,
   "id": "6a6b962b-803c-4170-95ff-938a5f5b0370",
   "metadata": {},
   "outputs": [],
   "source": [
    "# movies.csv: Movie metadata (movieId, title, genres)\n",
    "# ratings.csv: User ratings (userId, movieId, rating, timestamp)\n",
    "# tags.csv: User-generated tags for movies\n",
    "# links.csv: External identifiers (IMDb IDs)"
   ]
  },
  {
   "cell_type": "code",
   "execution_count": 108,
   "id": "024e1643-c0de-4716-9641-2a3f5481aab5",
   "metadata": {},
   "outputs": [
    {
     "name": "stdout",
     "output_type": "stream",
     "text": [
      "<class 'pandas.core.frame.DataFrame'>\n",
      "RangeIndex: 27278 entries, 0 to 27277\n",
      "Data columns (total 3 columns):\n",
      " #   Column   Non-Null Count  Dtype \n",
      "---  ------   --------------  ----- \n",
      " 0   movieId  27278 non-null  int64 \n",
      " 1   title    27278 non-null  object\n",
      " 2   genres   27278 non-null  object\n",
      "dtypes: int64(1), object(2)\n",
      "memory usage: 639.5+ KB\n",
      "None\n"
     ]
    }
   ],
   "source": [
    "print(movies.info())"
   ]
  },
  {
   "cell_type": "code",
   "execution_count": 109,
   "id": "17c9eca4-3562-4354-bf93-01914fc193a0",
   "metadata": {},
   "outputs": [
    {
     "name": "stdout",
     "output_type": "stream",
     "text": [
      "             userId       movieId        rating\n",
      "count  2.000026e+07  2.000026e+07  2.000026e+07\n",
      "mean   6.904587e+04  9.041567e+03  3.525529e+00\n",
      "std    4.003863e+04  1.978948e+04  1.051989e+00\n",
      "min    1.000000e+00  1.000000e+00  5.000000e-01\n",
      "25%    3.439500e+04  9.020000e+02  3.000000e+00\n",
      "50%    6.914100e+04  2.167000e+03  3.500000e+00\n",
      "75%    1.036370e+05  4.770000e+03  4.000000e+00\n",
      "max    1.384930e+05  1.312620e+05  5.000000e+00\n"
     ]
    }
   ],
   "source": [
    "print(ratings.describe())"
   ]
  },
  {
   "cell_type": "code",
   "execution_count": 110,
   "id": "f7aca5df-4da1-4918-9519-62ca76b9051f",
   "metadata": {},
   "outputs": [],
   "source": [
    "# Unique counts"
   ]
  },
  {
   "cell_type": "code",
   "execution_count": 111,
   "id": "8f841487-5f6c-48e2-86c9-eef84e6dd1dc",
   "metadata": {},
   "outputs": [
    {
     "name": "stdout",
     "output_type": "stream",
     "text": [
      "Number of unique users: 138493\n",
      "Number of unique movies: 27278\n"
     ]
    }
   ],
   "source": [
    "print(f\"Number of unique users: {ratings['userId'].nunique()}\")\n",
    "print(f\"Number of unique movies: {movies['movieId'].nunique()}\")"
   ]
  },
  {
   "cell_type": "code",
   "execution_count": 112,
   "id": "c25adfcb-d3ea-4c6d-bdc9-a3a811ce213a",
   "metadata": {},
   "outputs": [
    {
     "name": "stderr",
     "output_type": "stream",
     "text": [
      "C:\\Users\\jmalo\\anaconda3\\Lib\\site-packages\\seaborn\\_oldcore.py:1119: FutureWarning: use_inf_as_na option is deprecated and will be removed in a future version. Convert inf values to NaN before operating instead.\n",
      "  with pd.option_context('mode.use_inf_as_na', True):\n"
     ]
    },
    {
     "data": {
      "image/png": "[encoded data removed]",
      "text/plain": [
       "<Figure size 800x600 with 1 Axes>"
      ]
     },
     "metadata": {},
     "output_type": "display_data"
    }
   ],
   "source": [
    "# Plot distribution of ratings\n",
    "plt.figure(figsize=(8, 6))\n",
    "sns.histplot(ratings['rating'], bins=10, kde=False)\n",
    "plt.title('Distribution of Movie Ratings')\n",
    "plt.xlabel('Rating')\n",
    "plt.ylabel('Count')\n",
    "plt.show()"
   ]
  },
  {
   "cell_type": "code",
   "execution_count": 113,
   "id": "b6a19a7e-57fe-434f-8cad-bcab5ceb402d",
   "metadata": {},
   "outputs": [],
   "source": [
    "# Find most popular movies"
   ]
  },
  {
   "cell_type": "code",
   "execution_count": 114,
   "id": "faa4a11b-e7c2-43f3-af30-d236dda0d110",
   "metadata": {},
   "outputs": [],
   "source": [
    "# Count of ratings per movie\n",
    "movie_ratings_count = ratings.groupby('movieId')['rating'].count().reset_index()\n",
    "movie_ratings_count.columns = ['movieId', 'rating_count']"
   ]
  },
  {
   "cell_type": "code",
   "execution_count": 115,
   "id": "47e38bf2-6f5b-4360-bad1-10ca70e7e554",
   "metadata": {},
   "outputs": [],
   "source": [
    "# Merge with movie titles\n",
    "popular_movies = movie_ratings_count.merge(movies, on='movieId')\n",
    "popular_movies = popular_movies.sort_values(by='rating_count', ascending=False)"
   ]
  },
  {
   "cell_type": "code",
   "execution_count": 116,
   "id": "e1ec49d2-2e33-4873-a622-5fc7fcf103df",
   "metadata": {},
   "outputs": [
    {
     "name": "stdout",
     "output_type": "stream",
     "text": [
      "      movieId  rating_count                                      title  \\\n",
      "293       296         67310                        Pulp Fiction (1994)   \n",
      "352       356         66172                        Forrest Gump (1994)   \n",
      "315       318         63366           Shawshank Redemption, The (1994)   \n",
      "587       593         63299           Silence of the Lambs, The (1991)   \n",
      "476       480         59715                       Jurassic Park (1993)   \n",
      "257       260         54502  Star Wars: Episode IV - A New Hope (1977)   \n",
      "108       110         53769                          Braveheart (1995)   \n",
      "583       589         52244          Terminator 2: Judgment Day (1991)   \n",
      "2486     2571         51334                         Matrix, The (1999)   \n",
      "523       527         50054                    Schindler's List (1993)   \n",
      "\n",
      "                                genres  \n",
      "293        Comedy|Crime|Drama|Thriller  \n",
      "352           Comedy|Drama|Romance|War  \n",
      "315                        Crime|Drama  \n",
      "587              Crime|Horror|Thriller  \n",
      "476   Action|Adventure|Sci-Fi|Thriller  \n",
      "257            Action|Adventure|Sci-Fi  \n",
      "108                   Action|Drama|War  \n",
      "583                      Action|Sci-Fi  \n",
      "2486            Action|Sci-Fi|Thriller  \n",
      "523                          Drama|War  \n"
     ]
    }
   ],
   "source": [
    "# Display top 10 rated movies\n",
    "print(popular_movies.head(10))"
   ]
  },
  {
   "cell_type": "code",
   "execution_count": 117,
   "id": "15a180bc-b1ba-4090-8c61-d1c6fcb5d687",
   "metadata": {},
   "outputs": [],
   "source": [
    "# Check for missing values"
   ]
  },
  {
   "cell_type": "code",
   "execution_count": 118,
   "id": "ef28929c-3533-465e-8e3f-06269f08349f",
   "metadata": {},
   "outputs": [
    {
     "name": "stdout",
     "output_type": "stream",
     "text": [
      "movieId    0\n",
      "title      0\n",
      "genres     0\n",
      "dtype: int64\n",
      "userId       0\n",
      "movieId      0\n",
      "rating       0\n",
      "timestamp    0\n",
      "dtype: int64\n"
     ]
    }
   ],
   "source": [
    "print(movies.isnull().sum())\n",
    "print(ratings.isnull().sum())"
   ]
  },
  {
   "cell_type": "code",
   "execution_count": 119,
   "id": "477fc360-a9a5-4144-bfd2-95fb54e267bc",
   "metadata": {},
   "outputs": [],
   "source": [
    "# Convert timestamps"
   ]
  },
  {
   "cell_type": "code",
   "execution_count": 120,
   "id": "8e0e420a-21a7-43d2-843f-caa3c7b705db",
   "metadata": {},
   "outputs": [
    {
     "name": "stdout",
     "output_type": "stream",
     "text": [
      "   userId  movieId  rating           timestamp  year\n",
      "0       1        2     3.5 2005-04-02 23:53:47  2005\n",
      "1       1       29     3.5 2005-04-02 23:31:16  2005\n",
      "2       1       32     3.5 2005-04-02 23:33:39  2005\n",
      "3       1       47     3.5 2005-04-02 23:32:07  2005\n",
      "4       1       50     3.5 2005-04-02 23:29:40  2005\n"
     ]
    }
   ],
   "source": [
    "ratings['timestamp'] = pd.to_datetime(ratings['timestamp'])\n",
    "# Extract year\n",
    "ratings['year'] = ratings['timestamp'].dt.year\n",
    "print(ratings.head())"
   ]
  },
  {
   "cell_type": "code",
   "execution_count": 121,
   "id": "34ed9ec6-1aca-4893-9ad9-69931960cd37",
   "metadata": {},
   "outputs": [],
   "source": [
    "# Check for duplicate ratings"
   ]
  },
  {
   "cell_type": "code",
   "execution_count": 122,
   "id": "8d328727-0f8e-4ac0-8b41-3875014b0162",
   "metadata": {},
   "outputs": [
    {
     "name": "stdout",
     "output_type": "stream",
     "text": [
      "Empty DataFrame\n",
      "Columns: [userId, movieId, rating, timestamp, year]\n",
      "Index: []\n"
     ]
    }
   ],
   "source": [
    "duplicate_ratings = ratings[ratings.duplicated(subset=['userId', 'movieId'], keep=False)]\n",
    "print(duplicate_ratings)"
   ]
  },
  {
   "cell_type": "code",
   "execution_count": 123,
   "id": "5e9d664d-49dd-4980-8fb8-b16fb7ad1e01",
   "metadata": {},
   "outputs": [
    {
     "name": "stdout",
     "output_type": "stream",
     "text": [
      "(20000263,)\n",
      "(20000263,)\n"
     ]
    }
   ],
   "source": [
    "print(ratings['userId'].shape)\n",
    "print(ratings['movieId'].shape)"
   ]
  },
  {
   "cell_type": "code",
   "execution_count": 124,
   "id": "2ffe113b-b328-464e-ad76-3fa76c456d20",
   "metadata": {},
   "outputs": [
    {
     "name": "stdout",
     "output_type": "stream",
     "text": [
      "Invalid userIds: 0\n",
      "Invalid movieIds: 0\n"
     ]
    }
   ],
   "source": [
    "# Check for negative userId or movieId\n",
    "invalid_user_ids = ratings[ratings['userId'] < 0]\n",
    "invalid_movie_ids = movies[movies['movieId'] < 0]\n",
    "\n",
    "print(f\"Invalid userIds: {invalid_user_ids.shape[0]}\")\n",
    "print(f\"Invalid movieIds: {invalid_movie_ids.shape[0]}\")"
   ]
  },
  {
   "cell_type": "code",
   "execution_count": 125,
   "id": "2a77c275-408b-4d1d-87d8-f90af9942bb3",
   "metadata": {},
   "outputs": [],
   "source": [
    "# Ensure columns are numeric\n",
    "ratings['userId'] = pd.to_numeric(ratings['userId'], errors='coerce')\n",
    "ratings['movieId'] = pd.to_numeric(ratings['movieId'], errors='coerce')\n",
    "ratings['rating'] = pd.to_numeric(ratings['rating'], errors='coerce')\n",
    "\n",
    "# Remove rows with invalid (non-numeric) userId, movieId, or rating\n",
    "ratings = ratings.dropna(subset=['userId', 'movieId', 'rating'])\n"
   ]
  },
  {
   "cell_type": "code",
   "execution_count": 126,
   "id": "d945e6c5-7465-49c8-9411-f7b3f2b139a3",
   "metadata": {},
   "outputs": [
    {
     "name": "stdout",
     "output_type": "stream",
     "text": [
      "   userId  movieId  rating           timestamp  year           title  \\\n",
      "0       1        2     3.5 2005-04-02 23:53:47  2005  Jumanji (1995)   \n",
      "1       5        2     3.0 1996-12-25 15:26:09  1996  Jumanji (1995)   \n",
      "2      13        2     3.0 1996-11-27 08:19:02  1996  Jumanji (1995)   \n",
      "3      29        2     3.0 1996-06-23 20:36:14  1996  Jumanji (1995)   \n",
      "4      34        2     3.0 1996-10-28 13:29:44  1996  Jumanji (1995)   \n",
      "\n",
      "                       genres  \n",
      "0  Adventure|Children|Fantasy  \n",
      "1  Adventure|Children|Fantasy  \n",
      "2  Adventure|Children|Fantasy  \n",
      "3  Adventure|Children|Fantasy  \n",
      "4  Adventure|Children|Fantasy  \n"
     ]
    }
   ],
   "source": [
    "# Merge datasets\n",
    "merged_data = pd.merge(ratings, movies, on='movieId')\n",
    "print(merged_data.head())"
   ]
  },
  {
   "cell_type": "code",
   "execution_count": 127,
   "id": "82857f74-a1a5-47a9-a255-a99ddcb403c6",
   "metadata": {},
   "outputs": [],
   "source": [
    "# Filtering out movies with low rating data"
   ]
  },
  {
   "cell_type": "code",
   "execution_count": 128,
   "id": "a17f58b3-92d5-435c-b5b4-5a8cce4faf2c",
   "metadata": {},
   "outputs": [
    {
     "name": "stdout",
     "output_type": "stream",
     "text": [
      "8843     2\n",
      "27152    3\n",
      "27111    3\n",
      "27154    4\n",
      "21166    5\n",
      "Name: rating_count, dtype: int64\n",
      "17042316    20\n",
      "3730529     20\n",
      "3730528     20\n",
      "3730527     20\n",
      "3730526     20\n",
      "Name: user_rating_count, dtype: int64\n"
     ]
    }
   ],
   "source": [
    "# Movie popularity (number of ratings)\n",
    "movies['rating_count'] = ratings.groupby('movieId')['rating'].transform('count')\n",
    "print(movies['rating_count'].sort_values(ascending=True).head())\n",
    "# User activity (number of ratings given by a user)\n",
    "ratings['user_rating_count'] = ratings.groupby('userId')['rating'].transform('count')\n",
    "print(ratings['user_rating_count'].sort_values(ascending=True).head())"
   ]
  },
  {
   "cell_type": "code",
   "execution_count": 129,
   "id": "b2e21729-f203-4165-87ae-d9cc971397a3",
   "metadata": {},
   "outputs": [],
   "source": [
    "# Findings: There are many movies with minimal rating data.  All users have rated 20 or more films."
   ]
  },
  {
   "cell_type": "code",
   "execution_count": 130,
   "id": "fd1a7f04-c481-42c5-8f0c-3eb2fa88bafd",
   "metadata": {},
   "outputs": [
    {
     "data": {
      "text/plain": [
       "movieId         92\n",
       "title           92\n",
       "genres          92\n",
       "rating_count    92\n",
       "dtype: int64"
      ]
     },
     "execution_count": 130,
     "metadata": {},
     "output_type": "execute_result"
    }
   ],
   "source": [
    "movies.loc[movies['rating_count'] < 50].count()"
   ]
  },
  {
   "cell_type": "code",
   "execution_count": 131,
   "id": "80f2e6a0-128b-40c1-a873-1bef1d1b0287",
   "metadata": {},
   "outputs": [],
   "source": [
    "# Remove movies with less than 50 ratings\n",
    "ratings_count = merged_data['movieId'].value_counts()\n",
    "merged_data = merged_data[merged_data['movieId'].isin(ratings_count[ratings_count > 50].index)]"
   ]
  },
  {
   "cell_type": "code",
   "execution_count": 132,
   "id": "986edc0e-592c-4b21-8593-811e304c9ba2",
   "metadata": {},
   "outputs": [],
   "source": [
    "# Pivot table to be used for user-item interaction matrix - each row corresponds to a user and each column to a movie"
   ]
  },
  {
   "cell_type": "code",
   "execution_count": 133,
   "id": "0dc40b55-6869-4436-a6bd-3d176011a2ca",
   "metadata": {},
   "outputs": [],
   "source": [
    "user_movie_matrix = merged_data.pivot(index='userId', columns='movieId', values='rating')\n",
    "user_movie_matrix = user_movie_matrix.fillna(0)"
   ]
  },
  {
   "cell_type": "code",
   "execution_count": 134,
   "id": "29f145b7-05a8-44ea-9737-756f48e17815",
   "metadata": {},
   "outputs": [
    {
     "name": "stdout",
     "output_type": "stream",
     "text": [
      "movieId  1       2       3       4       5       6       7       8       \\\n",
      "userId                                                                    \n",
      "1           0.0     3.5     0.0     0.0     0.0     0.0     0.0     0.0   \n",
      "2           0.0     0.0     4.0     0.0     0.0     0.0     0.0     0.0   \n",
      "3           4.0     0.0     0.0     0.0     0.0     0.0     0.0     0.0   \n",
      "4           0.0     0.0     0.0     0.0     0.0     3.0     0.0     0.0   \n",
      "5           0.0     3.0     0.0     0.0     0.0     0.0     0.0     0.0   \n",
      "\n",
      "movieId  9       10      ...  118700  118702  118900  118985  118997  119141  \\\n",
      "userId                   ...                                                   \n",
      "1           0.0     0.0  ...     0.0     0.0     0.0     0.0     0.0     0.0   \n",
      "2           0.0     0.0  ...     0.0     0.0     0.0     0.0     0.0     0.0   \n",
      "3           0.0     0.0  ...     0.0     0.0     0.0     0.0     0.0     0.0   \n",
      "4           0.0     4.0  ...     0.0     0.0     0.0     0.0     0.0     0.0   \n",
      "5           0.0     0.0  ...     0.0     0.0     0.0     0.0     0.0     0.0   \n",
      "\n",
      "movieId  119145  119155  120635  125916  \n",
      "userId                                   \n",
      "1           0.0     0.0     0.0     0.0  \n",
      "2           0.0     0.0     0.0     0.0  \n",
      "3           0.0     0.0     0.0     0.0  \n",
      "4           0.0     0.0     0.0     0.0  \n",
      "5           0.0     0.0     0.0     0.0  \n",
      "\n",
      "[5 rows x 10473 columns]\n"
     ]
    }
   ],
   "source": [
    "print(user_movie_matrix.head())"
   ]
  },
  {
   "cell_type": "code",
   "execution_count": 135,
   "id": "36a04834-fca3-4d8e-a59a-3d2c8089799e",
   "metadata": {},
   "outputs": [],
   "source": [
    "# Plot the heatmap"
   ]
  },
  {
   "cell_type": "code",
   "execution_count": 136,
   "id": "d53a4eec-cf9a-4ff9-8b2a-949aacef070d",
   "metadata": {},
   "outputs": [],
   "source": [
    "sampled_user_movie_matrix = user_movie_matrix.iloc[:100, :100]"
   ]
  },
  {
   "cell_type": "code",
   "execution_count": 137,
   "id": "e6fa4fa5-c954-4a90-9057-4db1effe2f1a",
   "metadata": {},
   "outputs": [
    {
     "data": {
      "image/png": "[encoded data removed]",
      "text/plain": [
       "<Figure size 1000x1000 with 2 Axes>"
      ]
     },
     "metadata": {},
     "output_type": "display_data"
    }
   ],
   "source": [
    "plt.figure(figsize=(10, 10))\n",
    "sns.heatmap(sampled_user_movie_matrix, cmap=\"YlGnBu\", cbar=True)\n",
    "\n",
    "plt.title(\"user-Movie Rating Matrix Heatmap\")\n",
    "plt.xlabel(\"Movies\")\n",
    "plt.ylabel(\"Users\")\n",
    "\n",
    "plt.show()"
   ]
  }
 ],
 "metadata": {
  "kernelspec": {
   "display_name": "Python 3 (ipykernel)",
   "language": "python",
   "name": "python3"
  },
  "language_info": {
   "codemirror_mode": {
    "name": "ipython",
    "version": 3
   },
   "file_extension": ".py",
   "mimetype": "text/x-python",
   "name": "python",
   "nbconvert_exporter": "python",
   "pygments_lexer": "ipython3",
   "version": "3.11.7"
  }
 },
 "nbformat": 4,
 "nbformat_minor": 5
}
