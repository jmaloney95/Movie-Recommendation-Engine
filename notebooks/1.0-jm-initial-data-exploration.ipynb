{
 "cells": [
  {
   "cell_type": "code",
   "execution_count": 24,
   "id": "19091ce7-5b29-4374-85a6-dcac68d0d966",
   "metadata": {},
   "outputs": [],
   "source": [
    "import pandas as pd\n",
    "import matplotlib.pyplot as plt\n",
    "import seaborn as sns"
   ]
  },
  {
   "cell_type": "code",
   "execution_count": 2,
   "id": "986fec9e-2258-473e-a44d-458a1469f721",
   "metadata": {},
   "outputs": [],
   "source": [
    "# Load the datasets"
   ]
  },
  {
   "cell_type": "code",
   "execution_count": 10,
   "id": "57f505ad-32b0-430f-a8a6-263084191aec",
   "metadata": {},
   "outputs": [],
   "source": [
    "movies = pd.read_csv('../data/raw/movie.csv')\n",
    "ratings = pd.read_csv('../data/raw/rating.csv')\n",
    "tags = pd.read_csv('../data/raw/tag.csv')\n",
    "links = pd.read_csv('../data/raw/link.csv')"
   ]
  },
  {
   "cell_type": "code",
   "execution_count": 15,
   "id": "a67b3dde-a874-4e5f-9cb1-7909b2d3b058",
   "metadata": {},
   "outputs": [
    {
     "name": "stdout",
     "output_type": "stream",
     "text": [
      "   movieId                               title  \\\n",
      "0        1                    Toy Story (1995)   \n",
      "1        2                      Jumanji (1995)   \n",
      "2        3             Grumpier Old Men (1995)   \n",
      "3        4            Waiting to Exhale (1995)   \n",
      "4        5  Father of the Bride Part II (1995)   \n",
      "\n",
      "                                        genres  \n",
      "0  Adventure|Animation|Children|Comedy|Fantasy  \n",
      "1                   Adventure|Children|Fantasy  \n",
      "2                               Comedy|Romance  \n",
      "3                         Comedy|Drama|Romance  \n",
      "4                                       Comedy  \n",
      "   userId  movieId  rating            timestamp\n",
      "0       1        2     3.5  2005-04-02 23:53:47\n",
      "1       1       29     3.5  2005-04-02 23:31:16\n",
      "2       1       32     3.5  2005-04-02 23:33:39\n",
      "3       1       47     3.5  2005-04-02 23:32:07\n",
      "4       1       50     3.5  2005-04-02 23:29:40\n",
      "   userId  movieId            tag            timestamp\n",
      "0      18     4141    Mark Waters  2009-04-24 18:19:40\n",
      "1      65      208      dark hero  2013-05-10 01:41:18\n",
      "2      65      353      dark hero  2013-05-10 01:41:19\n",
      "3      65      521  noir thriller  2013-05-10 01:39:43\n",
      "4      65      592      dark hero  2013-05-10 01:41:18\n",
      "   movieId  imdbId   tmdbId\n",
      "0        1  114709    862.0\n",
      "1        2  113497   8844.0\n",
      "2        3  113228  15602.0\n",
      "3        4  114885  31357.0\n",
      "4        5  113041  11862.0\n"
     ]
    }
   ],
   "source": [
    "print(movies.head())\n",
    "print(ratings.head())\n",
    "print(tags.head())\n",
    "print(links.head())"
   ]
  },
  {
   "cell_type": "code",
   "execution_count": 17,
   "id": "6a6b962b-803c-4170-95ff-938a5f5b0370",
   "metadata": {},
   "outputs": [],
   "source": [
    "# movies.csv: Movie metadata (movieId, title, genres)\n",
    "# ratings.csv: User ratings (userId, movieId, rating, timestamp)\n",
    "# tags.csv: User-generated tags for movies\n",
    "# links.csv: External identifiers (IMDb IDs)"
   ]
  },
  {
   "cell_type": "code",
   "execution_count": 18,
   "id": "024e1643-c0de-4716-9641-2a3f5481aab5",
   "metadata": {},
   "outputs": [
    {
     "name": "stdout",
     "output_type": "stream",
     "text": [
      "<class 'pandas.core.frame.DataFrame'>\n",
      "RangeIndex: 27278 entries, 0 to 27277\n",
      "Data columns (total 3 columns):\n",
      " #   Column   Non-Null Count  Dtype \n",
      "---  ------   --------------  ----- \n",
      " 0   movieId  27278 non-null  int64 \n",
      " 1   title    27278 non-null  object\n",
      " 2   genres   27278 non-null  object\n",
      "dtypes: int64(1), object(2)\n",
      "memory usage: 639.5+ KB\n",
      "None\n"
     ]
    }
   ],
   "source": [
    "print(movies.info())"
   ]
  },
  {
   "cell_type": "code",
   "execution_count": 19,
   "id": "17c9eca4-3562-4354-bf93-01914fc193a0",
   "metadata": {},
   "outputs": [
    {
     "name": "stdout",
     "output_type": "stream",
     "text": [
      "             userId       movieId        rating\n",
      "count  2.000026e+07  2.000026e+07  2.000026e+07\n",
      "mean   6.904587e+04  9.041567e+03  3.525529e+00\n",
      "std    4.003863e+04  1.978948e+04  1.051989e+00\n",
      "min    1.000000e+00  1.000000e+00  5.000000e-01\n",
      "25%    3.439500e+04  9.020000e+02  3.000000e+00\n",
      "50%    6.914100e+04  2.167000e+03  3.500000e+00\n",
      "75%    1.036370e+05  4.770000e+03  4.000000e+00\n",
      "max    1.384930e+05  1.312620e+05  5.000000e+00\n"
     ]
    }
   ],
   "source": [
    "print(ratings.describe())"
   ]
  },
  {
   "cell_type": "code",
   "execution_count": 20,
   "id": "f7aca5df-4da1-4918-9519-62ca76b9051f",
   "metadata": {},
   "outputs": [],
   "source": [
    "# Unique counts"
   ]
  },
  {
   "cell_type": "code",
   "execution_count": 21,
   "id": "8f841487-5f6c-48e2-86c9-eef84e6dd1dc",
   "metadata": {},
   "outputs": [
    {
     "name": "stdout",
     "output_type": "stream",
     "text": [
      "Number of unique users: 138493\n",
      "Number of unique movies: 27278\n"
     ]
    }
   ],
   "source": [
    "print(f\"Number of unique users: {ratings['userId'].nunique()}\")\n",
    "print(f\"Number of unique movies: {movies['movieId'].nunique()}\")"
   ]
  },
  {
   "cell_type": "code",
   "execution_count": 25,
   "id": "c25adfcb-d3ea-4c6d-bdc9-a3a811ce213a",
   "metadata": {},
   "outputs": [
    {
     "name": "stderr",
     "output_type": "stream",
     "text": [
      "C:\\Users\\jmalo\\anaconda3\\Lib\\site-packages\\seaborn\\_oldcore.py:1119: FutureWarning: use_inf_as_na option is deprecated and will be removed in a future version. Convert inf values to NaN before operating instead.\n",
      "  with pd.option_context('mode.use_inf_as_na', True):\n"
     ]
    },
    {
     "data": {
      "image/png": "[encoded data removed]",
      "text/plain": [
       "<Figure size 800x600 with 1 Axes>"
      ]
     },
     "metadata": {},
     "output_type": "display_data"
    }
   ],
   "source": [
    "# Plot distribution of ratings\n",
    "plt.figure(figsize=(8, 6))\n",
    "sns.histplot(ratings['rating'], bins=10, kde=False)\n",
    "plt.title('Distribution of Movie Ratings')\n",
    "plt.xlabel('Rating')\n",
    "plt.ylabel('Count')\n",
    "plt.show()"
   ]
  },
  {
   "cell_type": "code",
   "execution_count": 26,
   "id": "b6a19a7e-57fe-434f-8cad-bcab5ceb402d",
   "metadata": {},
   "outputs": [],
   "source": [
    "# Find most popular movies"
   ]
  },
  {
   "cell_type": "code",
   "execution_count": 27,
   "id": "faa4a11b-e7c2-43f3-af30-d236dda0d110",
   "metadata": {},
   "outputs": [],
   "source": [
    "# count of ratings per movie\n",
    "movie_ratings_count = ratings.groupby('movieId')['rating'].count().reset_index()\n",
    "movie_ratings_count.columns = ['movieId', 'rating_count']"
   ]
  },
  {
   "cell_type": "code",
   "execution_count": 28,
   "id": "47e38bf2-6f5b-4360-bad1-10ca70e7e554",
   "metadata": {},
   "outputs": [],
   "source": [
    "# merge with movie titles\n",
    "popular_movies = movie_ratings_count.merge(movies, on='movieId')\n",
    "popular_movies = popular_movies.sort_values(by='rating_count', ascending=False)"
   ]
  },
  {
   "cell_type": "code",
   "execution_count": 29,
   "id": "e1ec49d2-2e33-4873-a622-5fc7fcf103df",
   "metadata": {},
   "outputs": [
    {
     "name": "stdout",
     "output_type": "stream",
     "text": [
      "      movieId  rating_count                                      title  \\\n",
      "293       296         67310                        Pulp Fiction (1994)   \n",
      "352       356         66172                        Forrest Gump (1994)   \n",
      "315       318         63366           Shawshank Redemption, The (1994)   \n",
      "587       593         63299           Silence of the Lambs, The (1991)   \n",
      "476       480         59715                       Jurassic Park (1993)   \n",
      "257       260         54502  Star Wars: Episode IV - A New Hope (1977)   \n",
      "108       110         53769                          Braveheart (1995)   \n",
      "583       589         52244          Terminator 2: Judgment Day (1991)   \n",
      "2486     2571         51334                         Matrix, The (1999)   \n",
      "523       527         50054                    Schindler's List (1993)   \n",
      "\n",
      "                                genres  \n",
      "293        Comedy|Crime|Drama|Thriller  \n",
      "352           Comedy|Drama|Romance|War  \n",
      "315                        Crime|Drama  \n",
      "587              Crime|Horror|Thriller  \n",
      "476   Action|Adventure|Sci-Fi|Thriller  \n",
      "257            Action|Adventure|Sci-Fi  \n",
      "108                   Action|Drama|War  \n",
      "583                      Action|Sci-Fi  \n",
      "2486            Action|Sci-Fi|Thriller  \n",
      "523                          Drama|War  \n"
     ]
    }
   ],
   "source": [
    "# display top 10 rated movies\n",
    "print(popular_movies.head(10))"
   ]
  },
  {
   "cell_type": "code",
   "execution_count": null,
   "id": "15a180bc-b1ba-4090-8c61-d1c6fcb5d687",
   "metadata": {},
   "outputs": [],
   "source": []
  }
 ],
 "metadata": {
  "kernelspec": {
   "display_name": "Python 3 (ipykernel)",
   "language": "python",
   "name": "python3"
  },
  "language_info": {
   "codemirror_mode": {
    "name": "ipython",
    "version": 3
   },
   "file_extension": ".py",
   "mimetype": "text/x-python",
   "name": "python",
   "nbconvert_exporter": "python",
   "pygments_lexer": "ipython3",
   "version": "3.11.7"
  }
 },
 "nbformat": 4,
 "nbformat_minor": 5
}
